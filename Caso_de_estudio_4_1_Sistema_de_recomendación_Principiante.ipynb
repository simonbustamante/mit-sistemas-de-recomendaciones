{
  "cells": [
    {
      "cell_type": "markdown",
      "metadata": {
        "id": "view-in-github",
        "colab_type": "text"
      },
      "source": [
        "<a href=\"https://colab.research.google.com/github/simonbustamante/mit-sistemas-de-recomendaciones/blob/master/Caso_de_estudio_4_1_Sistema_de_recomendaci%C3%B3n_Principiante.ipynb\" target=\"_parent\"><img src=\"https://colab.research.google.com/assets/colab-badge.svg\" alt=\"Open In Colab\"/></a>"
      ]
    },
    {
      "cell_type": "markdown",
      "metadata": {
        "collapsed": true,
        "id": "IpAvqvx8kpzQ"
      },
      "source": [
        "# Caso de Estudio 4.1 Sistema de recomendación"
      ]
    },
    {
      "cell_type": "markdown",
      "metadata": {
        "id": "g-J7g8S3khxg"
      },
      "source": [
        "## Configuración"
      ]
    },
    {
      "cell_type": "markdown",
      "metadata": {
        "id": "okCWWIi5kpzX"
      },
      "source": [
        "Ejecute (Run) estas celdas para instalar los paquetes necesarios para completar el caso de estudio. Esto podría llevar unos minutos así que sea paciente."
      ]
    },
    {
      "cell_type": "code",
      "execution_count": null,
      "metadata": {
        "id": "JUQoaH0GkpzX"
      },
      "outputs": [],
      "source": [
        "!pip install --upgrade pip\n",
        "!pip install surprise==0.1\n",
        "print('Librerías instaladas con éxito!')"
      ]
    },
    {
      "cell_type": "markdown",
      "metadata": {
        "id": "Kp6W1vZ5kpzX"
      },
      "source": [
        "Si no ha obtenido ningún texto en rojo indicando error entonces la instalación ha terminado con éxito. El texto en amarillo son avisos, no errores."
      ]
    },
    {
      "cell_type": "markdown",
      "metadata": {
        "id": "oDjaPEqakpzY"
      },
      "source": [
        "<h1>Atención:</h1>\n",
        "\n",
        "Ahora ha de reiniciar el entorno de ejecución. Para ello vaya a:\n",
        "\n",
        "> Entorno de ejecución > _Reiniciar entorno de ejecución_\n",
        "\n",
        "en la parte superior de su pantalla. Esto asegurará que sus cambio se han realizado con éxito."
      ]
    },
    {
      "cell_type": "markdown",
      "metadata": {
        "id": "c83HwbdKkpzY"
      },
      "source": [
        "## Importar"
      ]
    },
    {
      "cell_type": "markdown",
      "metadata": {
        "id": "ABPjRAFK3U5q"
      },
      "source": [
        "from surprise import SVD\n",
        "from surprise import Dataset\n",
        "from surprise.model_selection import cross_validate\n",
        "\n",
        "\n"
      ]
    },
    {
      "cell_type": "markdown",
      "metadata": {
        "id": "cGQglZPE1Ne7"
      },
      "source": []
    },
    {
      "cell_type": "markdown",
      "metadata": {
        "id": "98f7g_cqkpzY"
      },
      "source": [
        "Importe las librerías necesarias para el desarrollo del caso."
      ]
    },
    {
      "cell_type": "code",
      "execution_count": null,
      "metadata": {
        "id": "zKR6GYGE1JB8"
      },
      "outputs": [],
      "source": [
        "from surprise import SVD\n",
        "from surprise import Dataset\n",
        "from surprise.model_selection import cross_validate\n",
        "print('Librerías faltantes importadas !')"
      ]
    },
    {
      "cell_type": "code",
      "execution_count": null,
      "metadata": {
        "id": "q89snHQykpzY"
      },
      "outputs": [],
      "source": [
        "import pandas as pd\n",
        "import matplotlib\n",
        "from surprise import Dataset, SVD, NormalPredictor, BaselineOnly, KNNBasic, NMF\n",
        "from surprise.model_selection import cross_validate, KFold\n",
        "%matplotlib inline\n",
        "print('Librerías importadas con éxito!')"
      ]
    },
    {
      "cell_type": "code",
      "execution_count": null,
      "metadata": {
        "id": "ltnF_HRkB698"
      },
      "outputs": [],
      "source": [
        "from google.colab import drive\n",
        "drive.mount('/content/drive')"
      ]
    },
    {
      "cell_type": "markdown",
      "metadata": {
        "id": "7otNMBVbkpzY"
      },
      "source": [
        "## Datos"
      ]
    },
    {
      "cell_type": "code",
      "execution_count": null,
      "metadata": {
        "id": "4jO2sao1jSqR"
      },
      "outputs": [],
      "source": [
        "data = Dataset.load_builtin('ml-100k')\n",
        "print('\\n\\nData load successful!')"
      ]
    },
    {
      "cell_type": "markdown",
      "metadata": {
        "id": "KuDcN5FJkpzY"
      },
      "source": [
        "[Base de datos](https://files.grouplens.org/datasets/movielens/ml-100k.zip)"
      ]
    },
    {
      "cell_type": "markdown",
      "metadata": {
        "id": "fulYMY3_kpzZ"
      },
      "source": []
    },
    {
      "cell_type": "markdown",
      "metadata": {
        "id": "w7im5dMekpzZ"
      },
      "source": [
        "Carga de histograma con las valoraciones de 1 a 5 según cantidad de usuarios que puntuaron las peliculas"
      ]
    },
    {
      "cell_type": "code",
      "execution_count": null,
      "metadata": {
        "id": "4nhfl36ekpzZ"
      },
      "outputs": [],
      "source": [
        "# 1. Obtener el archivo de valoraciones (ratings) del objeto \"data\"\n",
        "ratings_file = data.ratings_file\n",
        "\n",
        "# 2. Cargue la tabla usando pandas, una herramienta común de tratamiento de datos\n",
        "# Se establecen los nombres de las columnas de forma manual en este caso\n",
        "col_names = ['user_id', 'item_id', 'rating', 'timestamp']\n",
        "raw_data = pd.read_table(ratings_file, names=col_names)\n",
        "\n",
        "# 3. Obtener la columna de valoraciones (ratings)\n",
        "ratings = raw_data.rating\n",
        "\n",
        "# 4. Generar un gráfico de barras/histograma con dichos datos\n",
        "ratings.value_counts().sort_index().plot.bar()\n",
        "\n",
        "print('\\n\\nHistograma generado con éxito!')"
      ]
    },
    {
      "cell_type": "code",
      "execution_count": null,
      "metadata": {
        "id": "S8K5HakBtmXT"
      },
      "outputs": [],
      "source": [
        "# Vamos a generar los porcentages de cada uno de los valores de los ratings\n",
        "print(ratings.value_counts().sort_index())"
      ]
    },
    {
      "cell_type": "code",
      "execution_count": null,
      "metadata": {
        "id": "FJVzqHxiuiBH"
      },
      "outputs": [],
      "source": [
        "print(ratings.value_counts(normalize=True)*100)"
      ]
    },
    {
      "cell_type": "code",
      "execution_count": null,
      "metadata": {
        "id": "kW5wPRvT-26f"
      },
      "outputs": [],
      "source": [
        "# Obtener la columna de valoraciones del item_id\n",
        "item = raw_data.item_id\n",
        "\n",
        "# Imprimier la cantidad de valores por columna item_id\n",
        "print('\\n\\nLa cantidad de valores de los 5 mayores y menores valores son')\n",
        "print(item.value_counts())\n",
        "\n",
        "# Generar un gráfico de barras/histograma de Item_id\n",
        "item.value_counts().sort_index().plot.bar()\n",
        "\n",
        "print('\\n\\nHistograma Item_id v/s Cantidad!')"
      ]
    },
    {
      "cell_type": "code",
      "execution_count": null,
      "metadata": {
        "id": "DttfLlKDTS9p"
      },
      "outputs": [],
      "source": [
        "# Obtener la columna de valoraciones del user_id\n",
        "user = raw_data.user_id\n",
        "\n",
        "# Imprimier la cantidad de valores por columna user_id\n",
        "print('\\n\\nLa cantidad de valores de los 5 mayores y menores valores son')\n",
        "print(user.value_counts())\n",
        "\n",
        "# Generar un gráfico de barras/histograma de user_id\n",
        "user.value_counts().sort_index().plot.bar()\n",
        "\n",
        "print('\\n\\nHistograma user_id v/s Cantidad!')"
      ]
    },
    {
      "cell_type": "code",
      "execution_count": null,
      "metadata": {
        "id": "n0gt2TGr1StW"
      },
      "outputs": [],
      "source": [
        "print(raw_data)"
      ]
    },
    {
      "cell_type": "code",
      "execution_count": null,
      "metadata": {
        "id": "CKAPHWxOzHAO"
      },
      "outputs": [],
      "source": [
        "len(ratings)"
      ]
    },
    {
      "cell_type": "code",
      "execution_count": null,
      "metadata": {
        "id": "Kv98r4yI5Clu"
      },
      "outputs": [],
      "source": [
        "raw_data.nunique()"
      ]
    },
    {
      "cell_type": "code",
      "execution_count": null,
      "metadata": {
        "id": "I8W4Hrbv6XBs"
      },
      "outputs": [],
      "source": [
        "print(raw_data.describe)"
      ]
    },
    {
      "cell_type": "code",
      "execution_count": null,
      "metadata": {
        "id": "vRAJV6pwb5nE"
      },
      "outputs": [],
      "source": [
        "print(raw_data.rating.isnull)"
      ]
    },
    {
      "cell_type": "markdown",
      "metadata": {
        "id": "9PiAfnfxkpzZ"
      },
      "source": [
        "**<h1>PREGUNTA 1: ANÁLISIS DE DATOS</h1>**"
      ]
    },
    {
      "cell_type": "markdown",
      "metadata": {
        "id": "uHSusKAxkpzZ"
      },
      "source": [
        "# Describe la forma de los datos, ¿como estan distribuidos? ¿Cuantas valoraciones hay disponibles?\n",
        "\n"
      ]
    },
    {
      "cell_type": "markdown",
      "metadata": {
        "id": "uIJ7DvUpH29-"
      },
      "source": [
        "*Su respuesta aqui - double click para editar*"
      ]
    },
    {
      "cell_type": "markdown",
      "metadata": {
        "id": "KNYrc-VakpzZ"
      },
      "source": [
        "## Modelo 1: aleatorio"
      ]
    },
    {
      "cell_type": "code",
      "execution_count": null,
      "metadata": {
        "id": "afJMFKWlkpza"
      },
      "outputs": [],
      "source": [
        "# Crear el objeto para el modelo\n",
        "model_random = NormalPredictor()\n",
        "print('\\n\\nModelo aleatorio creado con éxito!')"
      ]
    },
    {
      "cell_type": "code",
      "execution_count": null,
      "metadata": {
        "id": "v45T4HPwkpza"
      },
      "outputs": [],
      "source": [
        "# Entrenar con los datos usando validación cruzada con k=5\n",
        "# iteraciones, midiendo el RECM\n",
        "model_random_results = cross_validate(model_random, data, measures=['RMSE'], cv=5, verbose=True)\n",
        "print('\\n\\nEntrenamiento del modelo finalizado con éxito!')"
      ]
    },
    {
      "cell_type": "markdown",
      "metadata": {
        "id": "PC0RME1akpza"
      },
      "source": [
        "## Modelo 2: filtrado colaborativo basado en usuarios"
      ]
    },
    {
      "cell_type": "markdown",
      "metadata": {
        "id": "L_EiptBa5KfU"
      },
      "source": [
        "### Creación Modelo KNNBasic"
      ]
    },
    {
      "cell_type": "code",
      "execution_count": null,
      "metadata": {
        "id": "BYP3ft6_kpza"
      },
      "outputs": [],
      "source": [
        "# Crear el objeto para el modelo\n",
        "model_user = KNNBasic(sim_options={'user_based': True})\n",
        "print('\\n\\nModelo creado con éxito!')"
      ]
    },
    {
      "cell_type": "code",
      "execution_count": null,
      "metadata": {
        "id": "44pgMd4Vkpza"
      },
      "outputs": [],
      "source": [
        "# Entrenar con los datos usando validación cruzada con k=5\n",
        "# iteraciones, midiendo el RECM\n",
        "# Atención, esto podría generar un output con muchas líneas impresas\n",
        "# Puede usar \"verbose = False\" para prevenir esto\n",
        "model_user_results = cross_validate(model_user, data, measures=['RMSE'], cv=5, verbose=True)\n",
        "print('\\n\\nEntrenamiento del modelo finalizado con éxito!')"
      ]
    },
    {
      "cell_type": "markdown",
      "metadata": {
        "id": "_0dQZzOSkpza"
      },
      "source": [
        "## Modelo 3: filtrado colaborativo basado en ítems"
      ]
    },
    {
      "cell_type": "markdown",
      "metadata": {
        "id": "MaYknyGykHY_"
      },
      "source": [
        "###Creación Modelo KNNBasic"
      ]
    },
    {
      "cell_type": "code",
      "execution_count": null,
      "metadata": {
        "id": "gU_MGg3rkpza"
      },
      "outputs": [],
      "source": [
        "# Crear el objeto para el modelo\n",
        "model_item = KNNBasic(sim_options={'user_based': False})\n",
        "print('\\n\\nModelo creado con éxito!')"
      ]
    },
    {
      "cell_type": "code",
      "execution_count": null,
      "metadata": {
        "id": "WMZ0fkhpkpzb"
      },
      "outputs": [],
      "source": [
        "# Entrenar con los datos usando validación cruzada con k=5\n",
        "# iteraciones, midiendo el RECM\n",
        "# Atención, esto podría generar un output con muchas líneas impresas\n",
        "# Puede usar \"verbose = False\" para prevenir esto\n",
        "model_item_results = cross_validate(model_item, data, measures=['RMSE'], cv=5, verbose=True)\n",
        "print('\\n\\nEntrenamiento del modelo finalizado con éxito!')\n"
      ]
    },
    {
      "cell_type": "markdown",
      "metadata": {
        "id": "TfouF50hkpzb"
      },
      "source": [
        "**<h1>PREGUNTA 2: MODELOS DE FILTRADO COLABORATIVO</h1>**\n",
        "\n"
      ]
    },
    {
      "cell_type": "markdown",
      "metadata": {
        "id": "752HEmNExnIH"
      },
      "source": [
        "# Compare los resultados de los modelos de filtrado colaborativo basados en usuarios y en itens. ¿Qué diferencias encuentra entre los dos? ¿Qué diferencias encuentra entre estos modelos y el modelo aleatorio? ¿Puede explicar qué podría haber causado estas diferencias en los resultados?"
      ]
    },
    {
      "cell_type": "markdown",
      "source": [
        "*Su respuesta aqui - double click para editar*"
      ],
      "metadata": {
        "id": "xmDpAIZx8g00"
      }
    },
    {
      "cell_type": "markdown",
      "metadata": {
        "id": "CZNckgrikpzb"
      },
      "source": [
        "## Modelo 4: factorización de matriz"
      ]
    },
    {
      "cell_type": "code",
      "execution_count": null,
      "metadata": {
        "id": "8gOYSEnVkpzb"
      },
      "outputs": [],
      "source": [
        "# Crear el objeto para el modelo\n",
        "model_matrix = SVD()\n",
        "print('\\n\\nModelo creado con éxito!')"
      ]
    },
    {
      "cell_type": "code",
      "execution_count": null,
      "metadata": {
        "id": "OwiEhSgzkpzb"
      },
      "outputs": [],
      "source": [
        "# Entrenar con los datos usando validación cruzada con k=5\n",
        "# iteraciones, midiendo el RECM\n",
        "# Atención, esto podría llevar cierto tiempo (2-3 minutos), sea paciente\n",
        "model_matrix_results = cross_validate(model_matrix, data, measures=['RMSE'], cv=5, verbose=True)\n",
        "print('\\n\\nEntrenamiento del modelo finalizado con éxito!')"
      ]
    },
    {
      "cell_type": "markdown",
      "metadata": {
        "id": "sCT8JRy9kpzc"
      },
      "source": [
        "**<h1>PREGUNTA 3: MODELO DE FACTORIZACIÓN DE MATRIZ</h1>**"
      ]
    },
    {
      "cell_type": "markdown",
      "metadata": {
        "id": "KBVMl2Oakpzc"
      },
      "source": [
        "#El modelo de factorización de matriz es diferente de los modelos de filtrado colaborativo. Describa brevemente en qué consisten dichas diferencias. También, compare de nuevo el RECM respecto al resto de modelos. ¿Mejora? ¿Puede ofrecer alguna explicación de por qué mejora/empeora?\n",
        "\n"
      ]
    },
    {
      "cell_type": "markdown",
      "metadata": {
        "id": "DJ3xckSIs6pZ"
      },
      "source": [
        "*Su respuesta aqui - double click para editar*\n",
        "\n"
      ]
    },
    {
      "cell_type": "markdown",
      "metadata": {
        "id": "UoYIQYQSkpzc"
      },
      "source": [
        "## Precisión and exhaustividad @`k` (*precision and recall @k*)"
      ]
    },
    {
      "cell_type": "markdown",
      "metadata": {
        "id": "HHt3Dsxhkpzc"
      },
      "source": [
        "Queremos calcular la precisión y la exhaustividad para 2 valores de `k`: 5 y 10. Hemos incluído unas cuantas líneas de código que le ayudarán a conseguirlo."
      ]
    },
    {
      "cell_type": "markdown",
      "metadata": {
        "id": "cKXtIJefkpzc"
      },
      "source": [
        "Primero, definimos una función que toma algunas predicciones, un valor de `k` y un parámetro de umbral. Este código ha sido adaptado de la siguiente [fuente](http://surprise.readthedocs.io/en/stable/FAQ.html?highlight=precision#how-to-compute-precision-k-and-recall-k).\n",
        "\n",
        "**Asegúrese de que ejecuta esta celda**"
      ]
    },
    {
      "cell_type": "code",
      "execution_count": null,
      "metadata": {
        "id": "Xro0RMcUkpzd"
      },
      "outputs": [],
      "source": [
        "def precision_recall_at_k(predictions, k=10, threshold=3.5):\n",
        "    '''Devuelve la precision y la exhaustividad @k para cada usuario'''\n",
        "\n",
        "    # Primero asocie las predicciones a cada usuario\n",
        "    user_est_true = dict()\n",
        "    for uid, _, true_r, est, _ in predictions:\n",
        "        current = user_est_true.get(uid, list())\n",
        "        current.append((est, true_r))\n",
        "        user_est_true[uid] = current\n",
        "\n",
        "    precisions = dict()\n",
        "    recalls = dict()\n",
        "    for uid, user_ratings in user_est_true.items():\n",
        "\n",
        "        # Ordene las valoraciones de los usuarios por su valor estimado\n",
        "        user_ratings.sort(key=lambda x: x[0], reverse=True)\n",
        "\n",
        "        # Número de ítems relevantes\n",
        "        n_rel = sum((true_r >= threshold) for (_, true_r) in user_ratings)\n",
        "\n",
        "        # Número de ítems recomendados en el top k\n",
        "        n_rec_k = sum((est >= threshold) for (est, _) in user_ratings[:k])\n",
        "\n",
        "        # Número de ítems relevantes y recomendados en el top k\n",
        "        n_rel_and_rec_k = sum(((true_r >= threshold) and (est >= threshold))\n",
        "                              for (est, true_r) in user_ratings[:k])\n",
        "\n",
        "        # Precision@k: proporción de ítems recomendados que son relevantes\n",
        "        precisions[uid] = n_rel_and_rec_k / n_rec_k if n_rec_k != 0 else 1\n",
        "\n",
        "        # Exhaustividad@K: proporción de ítems relevantes que se recomiendan\n",
        "        recalls[uid] = n_rel_and_rec_k / n_rel if n_rel != 0 else 1\n",
        "\n",
        "    return precisions, recalls\n",
        "\n",
        "print('\\n\\nFunción creada con éxito!')"
      ]
    },
    {
      "cell_type": "markdown",
      "metadata": {
        "id": "TpXjwKQ5kpzd"
      },
      "source": [
        "A continuación, calculamos la precisión y exhaustividad @`k` = 5 y 10. Usamos validación cruzada con 5 iteraciones de nuevo para promediar los resultados a lo largo de toda la base de datos.\n",
        "\n",
        "Sea paciente porque esto podría llevar cierto tiempo en ejecutarse."
      ]
    },
    {
      "cell_type": "code",
      "execution_count": null,
      "metadata": {
        "id": "jO85NTL8kpzd"
      },
      "outputs": [],
      "source": [
        "# Cree una lista de los valores de k\n",
        "K = [5, 10]\n",
        "\n",
        "# Cree una lista de modelos\n",
        "\n",
        "models = [model_random, model_user, model_item, model_matrix]\n",
        "model_names = ['modelo aleatorio', 'filtrado colaborativo usuario',\n",
        "               'filtrado colaborativo ítem','factorización de matriz']\n",
        "\n",
        "# Cree un objeto de validación cruzada con k-iteraciones (diferente \"k\")\n",
        "k_fold = KFold(n_splits=5)\n",
        "\n",
        "for k in K:\n",
        "    for i, model in enumerate(models):\n",
        "        print(f'>>> k={k}, modelo={model_names[i]}')\n",
        "        precision = []\n",
        "        exhaustividad = []\n",
        "        for trainset, testset in k_fold.split(data):\n",
        "            model.fit(trainset)\n",
        "            predictions = model.test(testset, verbose=False)\n",
        "            precisions, recalls = precision_recall_at_k(predictions, k=k, threshold=3.5)\n",
        "\n",
        "            # La precisión y la exhaustividad pueden promediarse sobre todos los usuarios\n",
        "            precision.append(sum(prec for prec in precisions.values()) / len(precisions))\n",
        "            exhaustividad.append(sum(rec for rec in recalls.values()) / len(recalls))\n",
        "\n",
        "        print('>>> precisión:', round(sum(precision) / len(precision), 4))\n",
        "        print('>>> exhaustividad  :', round(sum(exhaustividad) / len(exhaustividad), 4))\n",
        "        print('\\n')\n",
        "\n",
        "print('\\n\\nCálculo de la precisión y la exhaustividad finalizado con éxito!')"
      ]
    },
    {
      "cell_type": "markdown",
      "metadata": {
        "id": "O0FWJEmDkpzd"
      },
      "source": [
        "**<h1>PREGUNTA 4: PRECISIÓN/EXHAUSTIVIDAD</h1>**"
      ]
    },
    {
      "cell_type": "markdown",
      "metadata": {
        "id": "QML5N0DOkpzd"
      },
      "source": [
        "# Calcule la precisión y la exhaustividad, para cada uno de los 4 modelos, con `k` = 5 y 10. Es decir, 2 x 2 x 4 = 16 valores numéricos. ¿Nota algo diferente en estos valores? ¿Algo diferente de los valores de RECM calculados anteriormente?\n",
        "\n",
        "\n"
      ]
    },
    {
      "cell_type": "markdown",
      "metadata": {
        "id": "Pse8iU7roJFI"
      },
      "source": [
        "*Su respuesta aqui - double click para editar*"
      ]
    },
    {
      "cell_type": "markdown",
      "metadata": {
        "id": "k1skeZxkkpze"
      },
      "source": [
        "##  Top-`n` Predicciones"
      ]
    },
    {
      "cell_type": "markdown",
      "metadata": {
        "id": "njxBlz2tkpze"
      },
      "source": [
        "Finalmente, queremos ver cómo son las recomendaciones y las estimaciones de valoraciones de los usuarios."
      ]
    },
    {
      "cell_type": "code",
      "execution_count": null,
      "metadata": {
        "id": "KeiGfNeMkpze"
      },
      "outputs": [],
      "source": [
        "def get_top_n(predictions, n=5):\n",
        "    '''Devuelve las top-N recomendaciones para cada usuario de un conjunto de predicciones.\n",
        "\n",
        "    Argumentos:\n",
        "        predictions(lista de objetos de predicción): lista de la predicciones,\n",
        "            tal y como se obtienen del método \"test\" de un algoritmo\n",
        "        n(int): número de recomendaciones a mostrar para cada usuario.\n",
        "            Por defecto es 10.\n",
        "\n",
        "    Salidas:\n",
        "    Un diccionario donde las keys son las IDs de los usuarios y los valores son\n",
        "    una lista de tuples:\n",
        "        [(item id, estimación de la valoración), ...] de tamaño n.\n",
        "    '''\n",
        "\n",
        "    # Primero asocie las predicciones a cada usuario.\n",
        "    top_n = dict()\n",
        "    for uid, iid, true_r, est, _ in predictions:\n",
        "        current = top_n.get(uid, [])\n",
        "        current.append((iid, est))\n",
        "        top_n[uid] = current\n",
        "\n",
        "    # A continuación ordene las predicciones para cada usuario y obtenga las\n",
        "    # n predicciones más elevadas\n",
        "    for uid, user_ratings in top_n.items():\n",
        "        user_ratings.sort(key=lambda x: x[1], reverse=True)\n",
        "        top_n[uid] = user_ratings[:n]\n",
        "\n",
        "    return top_n\n",
        "\n",
        "print('Función creada con éxito!')"
      ]
    },
    {
      "cell_type": "markdown",
      "metadata": {
        "id": "eFK0uxImkpzf"
      },
      "source": [
        "Por último, ejecutamos esta función en cada uno de los modelos, primero entrenando en **la totalidad** de los datos disponibles, y después prediciendo los datos que faltan. Usamos `n` = 5, pero puede elegir cualquier valor razonable de n.\n",
        "\n",
        "Esto podría llevar cierto tiempo de computación, así que sea paciente.\n"
      ]
    },
    {
      "cell_type": "code",
      "execution_count": null,
      "metadata": {
        "id": "hyAfl1aTkpzf"
      },
      "outputs": [],
      "source": [
        "trainset = data.build_full_trainset()\n",
        "testset = trainset.build_anti_testset()\n",
        "print('\\n\\nConjuntos de prueba y entrenamiento creados con éxito!')"
      ]
    },
    {
      "cell_type": "code",
      "execution_count": null,
      "metadata": {
        "id": "sURUxMuNkpzf"
      },
      "outputs": [],
      "source": [
        "for modelo in models:\n",
        "    modelo.fit(trainset)\n",
        "    predictions = modelo.test(testset)\n",
        "    top_n = get_top_n(predictions, n=5)\n",
        "    # Muestre el primer usuario de la base de datos\n",
        "    user = list(top_n.keys())[0]\n",
        "    print(f'modelo: {modelo}, {user}: {top_n[user]}')\n",
        "\n",
        "print('\\n\\nCálculo de las top-N predicciones realizado con éxito!')"
      ]
    },
    {
      "cell_type": "markdown",
      "metadata": {
        "id": "xvZdwU5Ckpzf"
      },
      "source": [
        "**<h1>PREGUNTA 5: TOP-N PREDICCIONES</h1>**"
      ]
    },
    {
      "cell_type": "markdown",
      "metadata": {
        "id": "XJsHTqxvkpzf"
      },
      "source": [
        "# ¿Tienen sentido las top-n predicciones que ha obtenido? ¿Cuál es el valor de las valoraciones (1-5) de estas predicciones? ¿Cómo podría usar estas predicciones en la vida real si estuviera intentando construir un sistema de recomendación genérico para una compañía?\n",
        "\n",
        "\n",
        "\n"
      ]
    },
    {
      "cell_type": "markdown",
      "metadata": {
        "id": "X08XnmxZs7Wi"
      },
      "source": [
        "*Su respuesta aqui - double click para editar*"
      ]
    },
    {
      "cell_type": "markdown",
      "metadata": {
        "id": "GHc1p2EPkpzf"
      },
      "source": [
        "¡Buen trabajo! Asegúrese de que comprueba la sección **Entrega** del manual de instrucciones para terminar y entregar este caso correctamente."
      ]
    },
    {
      "cell_type": "markdown",
      "source": [
        "# -----------------------------------------------------------------------------------------\n",
        "# ************* Analisis Adicional: K óptimo segun el RMSE *************"
      ],
      "metadata": {
        "id": "XA7OXYtE-1H2"
      }
    },
    {
      "cell_type": "code",
      "execution_count": null,
      "metadata": {
        "collapsed": true,
        "id": "SSfvmo3-0heP"
      },
      "outputs": [],
      "source": [
        "# Evaluar RMSE para los siguientes valores de K\n",
        "# se busca determinar el K óptimo de manera gráfica.\n",
        "# --------------------------------------------------\n",
        "k_value = [5,10,20,50,100]\n",
        "error = list()\n",
        "for i  in k_value:\n",
        "  model_user_results = cross_validate(model_user, data, measures=['RMSE'],cv=i, verbose=False)\n",
        "  error_medio=(model_user_results['test_rmse'].sum())/i\n",
        "  error.append(error_medio)\n",
        "  print(error_medio)"
      ]
    },
    {
      "cell_type": "code",
      "execution_count": null,
      "metadata": {
        "id": "_zRktCTsk0kS"
      },
      "outputs": [],
      "source": [
        "dicc ={'k_value(K)':k_value, 'error(RMSE)':error}\n",
        "df=pd.DataFrame(dicc)\n",
        "\n",
        "\n",
        "import matplotlib.pyplot as plt\n",
        "import math\n",
        "plt.plot(k_value,error)\n",
        "plt.scatter(k_value, error,marker='o', color='r')\n",
        "annotations=[]\n",
        "for i in range(0,len(error)):\n",
        "  annotations.append('  ('+ str(k_value[i]) + ' , ' + str(round(error[i],4)) +')')\n",
        "for i, label in enumerate(annotations):\n",
        "    plt.text(k_value[i], error[i],label)\n",
        "plt.xlabel('K: Número de Folds (bloques)')\n",
        "plt.ylabel('RMSE: Error cuadrático medio')\n",
        "plt.title('Gráfico K vs RMSE')\n",
        "plt.show()"
      ]
    }
  ],
  "metadata": {
    "colab": {
      "provenance": [],
      "include_colab_link": true
    },
    "kernelspec": {
      "display_name": "Python 3",
      "name": "python3"
    },
    "language_info": {
      "name": "python"
    }
  },
  "nbformat": 4,
  "nbformat_minor": 0
}