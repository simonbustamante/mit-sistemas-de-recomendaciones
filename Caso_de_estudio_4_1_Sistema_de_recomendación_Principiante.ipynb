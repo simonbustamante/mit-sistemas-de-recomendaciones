{
  "cells": [
    {
      "cell_type": "markdown",
      "metadata": {
        "id": "view-in-github",
        "colab_type": "text"
      },
      "source": [
        "<a href=\"https://colab.research.google.com/github/simonbustamante/mit-sistemas-de-recomendaciones/blob/master/Caso_de_estudio_4_1_Sistema_de_recomendaci%C3%B3n_Principiante.ipynb\" target=\"_parent\"><img src=\"https://colab.research.google.com/assets/colab-badge.svg\" alt=\"Open In Colab\"/></a>"
      ]
    },
    {
      "cell_type": "markdown",
      "metadata": {
        "collapsed": true,
        "id": "IpAvqvx8kpzQ"
      },
      "source": [
        "# Caso de Estudio 4.1 Sistema de recomendación"
      ]
    },
    {
      "cell_type": "markdown",
      "metadata": {
        "id": "g-J7g8S3khxg"
      },
      "source": [
        "## Configuración"
      ]
    },
    {
      "cell_type": "markdown",
      "metadata": {
        "id": "okCWWIi5kpzX"
      },
      "source": [
        "Ejecute (Run) estas celdas para instalar los paquetes necesarios para completar el caso de estudio. Esto podría llevar unos minutos así que sea paciente."
      ]
    },
    {
      "cell_type": "code",
      "execution_count": 3,
      "metadata": {
        "id": "JUQoaH0GkpzX",
        "colab": {
          "base_uri": "https://localhost:8080/"
        },
        "outputId": "072ecd29-8673-421d-bde9-3b9367d6dde9"
      },
      "outputs": [
        {
          "output_type": "stream",
          "name": "stdout",
          "text": [
            "Requirement already satisfied: pip in /usr/local/lib/python3.10/dist-packages (24.0)\n",
            "\u001b[33mWARNING: Running pip as the 'root' user can result in broken permissions and conflicting behaviour with the system package manager. It is recommended to use a virtual environment instead: https://pip.pypa.io/warnings/venv\u001b[0m\u001b[33m\n",
            "\u001b[0mRequirement already satisfied: surprise==0.1 in /usr/local/lib/python3.10/dist-packages (0.1)\n",
            "Requirement already satisfied: scikit-surprise in /usr/local/lib/python3.10/dist-packages (from surprise==0.1) (1.1.3)\n",
            "Requirement already satisfied: joblib>=1.0.0 in /usr/local/lib/python3.10/dist-packages (from scikit-surprise->surprise==0.1) (1.3.2)\n",
            "Requirement already satisfied: numpy>=1.17.3 in /usr/local/lib/python3.10/dist-packages (from scikit-surprise->surprise==0.1) (1.25.2)\n",
            "Requirement already satisfied: scipy>=1.3.2 in /usr/local/lib/python3.10/dist-packages (from scikit-surprise->surprise==0.1) (1.11.4)\n",
            "\u001b[33mWARNING: Running pip as the 'root' user can result in broken permissions and conflicting behaviour with the system package manager. It is recommended to use a virtual environment instead: https://pip.pypa.io/warnings/venv\u001b[0m\u001b[33m\n",
            "\u001b[0mLibrerías instaladas con éxito!\n"
          ]
        }
      ],
      "source": [
        "!pip install --upgrade pip\n",
        "!pip install surprise==0.1\n",
        "print('Librerías instaladas con éxito!')"
      ]
    },
    {
      "cell_type": "markdown",
      "metadata": {
        "id": "Kp6W1vZ5kpzX"
      },
      "source": [
        "Si no ha obtenido ningún texto en rojo indicando error entonces la instalación ha terminado con éxito. El texto en amarillo son avisos, no errores."
      ]
    },
    {
      "cell_type": "markdown",
      "metadata": {
        "id": "oDjaPEqakpzY"
      },
      "source": [
        "<h1>Atención:</h1>\n",
        "\n",
        "Ahora ha de reiniciar el entorno de ejecución. Para ello vaya a:\n",
        "\n",
        "> Entorno de ejecución > _Reiniciar entorno de ejecución_\n",
        "\n",
        "en la parte superior de su pantalla. Esto asegurará que sus cambio se han realizado con éxito."
      ]
    },
    {
      "cell_type": "markdown",
      "metadata": {
        "id": "c83HwbdKkpzY"
      },
      "source": [
        "## Importar"
      ]
    },
    {
      "cell_type": "markdown",
      "metadata": {
        "id": "ABPjRAFK3U5q"
      },
      "source": [
        "from surprise import SVD\n",
        "from surprise import Dataset\n",
        "from surprise.model_selection import cross_validate\n",
        "\n",
        "\n"
      ]
    },
    {
      "cell_type": "markdown",
      "metadata": {
        "id": "cGQglZPE1Ne7"
      },
      "source": []
    },
    {
      "cell_type": "markdown",
      "metadata": {
        "id": "98f7g_cqkpzY"
      },
      "source": [
        "Importe las librerías necesarias para el desarrollo del caso."
      ]
    },
    {
      "cell_type": "code",
      "execution_count": 4,
      "metadata": {
        "id": "zKR6GYGE1JB8",
        "colab": {
          "base_uri": "https://localhost:8080/"
        },
        "outputId": "a4be4b31-86d7-445c-b8ee-d3321c565048"
      },
      "outputs": [
        {
          "output_type": "stream",
          "name": "stdout",
          "text": [
            "Librerías faltantes importadas !\n"
          ]
        }
      ],
      "source": [
        "from surprise import SVD\n",
        "from surprise import Dataset\n",
        "from surprise.model_selection import cross_validate\n",
        "print('Librerías faltantes importadas !')"
      ]
    },
    {
      "cell_type": "code",
      "execution_count": 5,
      "metadata": {
        "id": "q89snHQykpzY",
        "colab": {
          "base_uri": "https://localhost:8080/"
        },
        "outputId": "eb65b37f-ac8b-4e51-9045-d8eb133c11dc"
      },
      "outputs": [
        {
          "output_type": "stream",
          "name": "stdout",
          "text": [
            "Librerías importadas con éxito!\n"
          ]
        }
      ],
      "source": [
        "import pandas as pd\n",
        "import matplotlib\n",
        "from surprise import Dataset, SVD, NormalPredictor, BaselineOnly, KNNBasic, NMF\n",
        "from surprise.model_selection import cross_validate, KFold\n",
        "%matplotlib inline\n",
        "print('Librerías importadas con éxito!')"
      ]
    },
    {
      "cell_type": "code",
      "execution_count": 6,
      "metadata": {
        "id": "ltnF_HRkB698",
        "colab": {
          "base_uri": "https://localhost:8080/"
        },
        "outputId": "f42ace6d-0f40-4bb5-e7ab-28ed9f6bd77b"
      },
      "outputs": [
        {
          "output_type": "stream",
          "name": "stdout",
          "text": [
            "Mounted at /content/drive\n"
          ]
        }
      ],
      "source": [
        "from google.colab import drive\n",
        "drive.mount('/content/drive')"
      ]
    },
    {
      "cell_type": "markdown",
      "metadata": {
        "id": "7otNMBVbkpzY"
      },
      "source": [
        "## Datos"
      ]
    },
    {
      "cell_type": "code",
      "execution_count": 7,
      "metadata": {
        "id": "4jO2sao1jSqR",
        "colab": {
          "base_uri": "https://localhost:8080/"
        },
        "outputId": "eb6f3d45-6be8-4b11-dbd7-4f1291b12dae"
      },
      "outputs": [
        {
          "output_type": "stream",
          "name": "stdout",
          "text": [
            "Dataset ml-100k could not be found. Do you want to download it? [Y/n] y\n",
            "Trying to download dataset from https://files.grouplens.org/datasets/movielens/ml-100k.zip...\n",
            "Done! Dataset ml-100k has been saved to /root/.surprise_data/ml-100k\n",
            "\n",
            "\n",
            "Data load successful!\n"
          ]
        }
      ],
      "source": [
        "data = Dataset.load_builtin('ml-100k')\n",
        "print('\\n\\nData load successful!')"
      ]
    },
    {
      "cell_type": "markdown",
      "metadata": {
        "id": "KuDcN5FJkpzY"
      },
      "source": [
        "[Base de datos](https://files.grouplens.org/datasets/movielens/ml-100k.zip)"
      ]
    },
    {
      "cell_type": "markdown",
      "metadata": {
        "id": "fulYMY3_kpzZ"
      },
      "source": []
    },
    {
      "cell_type": "markdown",
      "metadata": {
        "id": "w7im5dMekpzZ"
      },
      "source": [
        "Carga de histograma con las valoraciones de 1 a 5 según cantidad de usuarios que puntuaron las peliculas"
      ]
    },
    {
      "cell_type": "code",
      "execution_count": 8,
      "metadata": {
        "id": "4nhfl36ekpzZ",
        "colab": {
          "base_uri": "https://localhost:8080/",
          "height": 477
        },
        "outputId": "917ac206-55e5-497b-ea11-50fa4297f7a4"
      },
      "outputs": [
        {
          "output_type": "stream",
          "name": "stdout",
          "text": [
            "\n",
            "\n",
            "Histograma generado con éxito!\n"
          ]
        },
        {
          "output_type": "display_data",
          "data": {
            "text/plain": [
              "<Figure size 640x480 with 1 Axes>"
            ],
            "image/png": "[encoded data removed]"
          },
          "metadata": {}
        }
      ],
      "source": [
        "# 1. Obtener el archivo de valoraciones (ratings) del objeto \"data\"\n",
        "ratings_file = data.ratings_file\n",
        "\n",
        "# 2. Cargue la tabla usando pandas, una herramienta común de tratamiento de datos\n",
        "# Se establecen los nombres de las columnas de forma manual en este caso\n",
        "col_names = ['user_id', 'item_id', 'rating', 'timestamp']\n",
        "raw_data = pd.read_table(ratings_file, names=col_names)\n",
        "\n",
        "# 3. Obtener la columna de valoraciones (ratings)\n",
        "ratings = raw_data.rating\n",
        "\n",
        "# 4. Generar un gráfico de barras/histograma con dichos datos\n",
        "ratings.value_counts().sort_index().plot.bar()\n",
        "\n",
        "print('\\n\\nHistograma generado con éxito!')"
      ]
    },
    {
      "cell_type": "code",
      "execution_count": 9,
      "metadata": {
        "id": "S8K5HakBtmXT",
        "colab": {
          "base_uri": "https://localhost:8080/"
        },
        "outputId": "6865023b-0b80-48fc-e68a-f31943d4ebc4"
      },
      "outputs": [
        {
          "output_type": "stream",
          "name": "stdout",
          "text": [
            "1     6110\n",
            "2    11370\n",
            "3    27145\n",
            "4    34174\n",
            "5    21201\n",
            "Name: rating, dtype: int64\n"
          ]
        }
      ],
      "source": [
        "# Vamos a generar los porcentages de cada uno de los valores de los ratings\n",
        "print(ratings.value_counts().sort_index())"
      ]
    },
    {
      "cell_type": "code",
      "execution_count": 10,
      "metadata": {
        "id": "FJVzqHxiuiBH",
        "colab": {
          "base_uri": "https://localhost:8080/"
        },
        "outputId": "6198b205-f2a8-4b1d-b5f2-86017161d974"
      },
      "outputs": [
        {
          "output_type": "stream",
          "name": "stdout",
          "text": [
            "4    34.174\n",
            "3    27.145\n",
            "5    21.201\n",
            "2    11.370\n",
            "1     6.110\n",
            "Name: rating, dtype: float64\n"
          ]
        }
      ],
      "source": [
        "print(ratings.value_counts(normalize=True)*100)"
      ]
    },
    {
      "cell_type": "code",
      "execution_count": 11,
      "metadata": {
        "id": "kW5wPRvT-26f",
        "colab": {
          "base_uri": "https://localhost:8080/",
          "height": 763
        },
        "outputId": "41ad0311-adc6-470c-8a50-b0e1fb0c9aa0"
      },
      "outputs": [
        {
          "output_type": "stream",
          "name": "stdout",
          "text": [
            "\n",
            "\n",
            "La cantidad de valores de los 5 mayores y menores valores son\n",
            "50      583\n",
            "258     509\n",
            "100     508\n",
            "181     507\n",
            "294     485\n",
            "       ... \n",
            "852       1\n",
            "1505      1\n",
            "1653      1\n",
            "1452      1\n",
            "1641      1\n",
            "Name: item_id, Length: 1682, dtype: int64\n",
            "\n",
            "\n",
            "Histograma Item_id v/s Cantidad!\n"
          ]
        },
        {
          "output_type": "display_data",
          "data": {
            "text/plain": [
              "<Figure size 640x480 with 1 Axes>"
            ],
            "image/png": "[encoded data removed]"
          },
          "metadata": {}
        }
      ],
      "source": [
        "# Obtener la columna de valoraciones del item_id\n",
        "item = raw_data.item_id\n",
        "\n",
        "# Imprimier la cantidad de valores por columna item_id\n",
        "print('\\n\\nLa cantidad de valores de los 5 mayores y menores valores son')\n",
        "print(item.value_counts())\n",
        "\n",
        "# Generar un gráfico de barras/histograma de Item_id\n",
        "item.value_counts().sort_index().plot.bar()\n",
        "\n",
        "print('\\n\\nHistograma Item_id v/s Cantidad!')"
      ]
    },
    {
      "cell_type": "code",
      "execution_count": 12,
      "metadata": {
        "id": "DttfLlKDTS9p",
        "colab": {
          "base_uri": "https://localhost:8080/",
          "height": 754
        },
        "outputId": "7938819b-391d-4b94-e5a0-e723d22ae9ad"
      },
      "outputs": [
        {
          "output_type": "stream",
          "name": "stdout",
          "text": [
            "\n",
            "\n",
            "La cantidad de valores de los 5 mayores y menores valores son\n",
            "405    737\n",
            "655    685\n",
            "13     636\n",
            "450    540\n",
            "276    518\n",
            "      ... \n",
            "441     20\n",
            "36      20\n",
            "812     20\n",
            "895     20\n",
            "93      20\n",
            "Name: user_id, Length: 943, dtype: int64\n",
            "\n",
            "\n",
            "Histograma user_id v/s Cantidad!\n"
          ]
        },
        {
          "output_type": "display_data",
          "data": {
            "text/plain": [
              "<Figure size 640x480 with 1 Axes>"
            ],
            "image/png": "[encoded data removed]"
          },
          "metadata": {}
        }
      ],
      "source": [
        "# Obtener la columna de valoraciones del user_id\n",
        "user = raw_data.user_id\n",
        "\n",
        "# Imprimier la cantidad de valores por columna user_id\n",
        "print('\\n\\nLa cantidad de valores de los 5 mayores y menores valores son')\n",
        "print(user.value_counts())\n",
        "\n",
        "# Generar un gráfico de barras/histograma de user_id\n",
        "user.value_counts().sort_index().plot.bar()\n",
        "\n",
        "print('\\n\\nHistograma user_id v/s Cantidad!')"
      ]
    },
    {
      "cell_type": "code",
      "execution_count": 13,
      "metadata": {
        "id": "n0gt2TGr1StW",
        "colab": {
          "base_uri": "https://localhost:8080/"
        },
        "outputId": "eb1a957c-0d8b-4243-d130-7a00dfbc1363"
      },
      "outputs": [
        {
          "output_type": "stream",
          "name": "stdout",
          "text": [
            "       user_id  item_id  rating  timestamp\n",
            "0          196      242       3  881250949\n",
            "1          186      302       3  891717742\n",
            "2           22      377       1  878887116\n",
            "3          244       51       2  880606923\n",
            "4          166      346       1  886397596\n",
            "...        ...      ...     ...        ...\n",
            "99995      880      476       3  880175444\n",
            "99996      716      204       5  879795543\n",
            "99997      276     1090       1  874795795\n",
            "99998       13      225       2  882399156\n",
            "99999       12      203       3  879959583\n",
            "\n",
            "[100000 rows x 4 columns]\n"
          ]
        }
      ],
      "source": [
        "print(raw_data)"
      ]
    },
    {
      "cell_type": "code",
      "execution_count": 14,
      "metadata": {
        "id": "CKAPHWxOzHAO",
        "colab": {
          "base_uri": "https://localhost:8080/"
        },
        "outputId": "216f6068-4510-4ba7-b1c3-b90d50a653d2"
      },
      "outputs": [
        {
          "output_type": "execute_result",
          "data": {
            "text/plain": [
              "100000"
            ]
          },
          "metadata": {},
          "execution_count": 14
        }
      ],
      "source": [
        "len(ratings)"
      ]
    },
    {
      "cell_type": "code",
      "execution_count": 15,
      "metadata": {
        "id": "Kv98r4yI5Clu",
        "colab": {
          "base_uri": "https://localhost:8080/"
        },
        "outputId": "7a23c197-a4a9-4b36-923a-3d7619528f7c"
      },
      "outputs": [
        {
          "output_type": "execute_result",
          "data": {
            "text/plain": [
              "user_id        943\n",
              "item_id       1682\n",
              "rating           5\n",
              "timestamp    49282\n",
              "dtype: int64"
            ]
          },
          "metadata": {},
          "execution_count": 15
        }
      ],
      "source": [
        "raw_data.nunique()"
      ]
    },
    {
      "cell_type": "code",
      "execution_count": 16,
      "metadata": {
        "id": "I8W4Hrbv6XBs",
        "colab": {
          "base_uri": "https://localhost:8080/"
        },
        "outputId": "881b48a8-53c2-4803-f8a0-3659b8a6c465"
      },
      "outputs": [
        {
          "output_type": "stream",
          "name": "stdout",
          "text": [
            "<bound method NDFrame.describe of        user_id  item_id  rating  timestamp\n",
            "0          196      242       3  881250949\n",
            "1          186      302       3  891717742\n",
            "2           22      377       1  878887116\n",
            "3          244       51       2  880606923\n",
            "4          166      346       1  886397596\n",
            "...        ...      ...     ...        ...\n",
            "99995      880      476       3  880175444\n",
            "99996      716      204       5  879795543\n",
            "99997      276     1090       1  874795795\n",
            "99998       13      225       2  882399156\n",
            "99999       12      203       3  879959583\n",
            "\n",
            "[100000 rows x 4 columns]>\n"
          ]
        }
      ],
      "source": [
        "print(raw_data.describe)"
      ]
    },
    {
      "cell_type": "code",
      "execution_count": 17,
      "metadata": {
        "id": "vRAJV6pwb5nE",
        "colab": {
          "base_uri": "https://localhost:8080/"
        },
        "outputId": "8cb1f994-25e4-467e-8909-2daaaedd2f9a"
      },
      "outputs": [
        {
          "output_type": "stream",
          "name": "stdout",
          "text": [
            "<bound method Series.isnull of 0        3\n",
            "1        3\n",
            "2        1\n",
            "3        2\n",
            "4        1\n",
            "        ..\n",
            "99995    3\n",
            "99996    5\n",
            "99997    1\n",
            "99998    2\n",
            "99999    3\n",
            "Name: rating, Length: 100000, dtype: int64>\n"
          ]
        }
      ],
      "source": [
        "print(raw_data.rating.isnull)"
      ]
    },
    {
      "cell_type": "markdown",
      "metadata": {
        "id": "9PiAfnfxkpzZ"
      },
      "source": [
        "**<h1>PREGUNTA 1: ANÁLISIS DE DATOS</h1>**"
      ]
    },
    {
      "cell_type": "markdown",
      "metadata": {
        "id": "uHSusKAxkpzZ"
      },
      "source": [
        "# Describe la forma de los datos, ¿como estan distribuidos? ¿Cuantas valoraciones hay disponibles?\n",
        "\n"
      ]
    },
    {
      "cell_type": "markdown",
      "metadata": {
        "id": "uIJ7DvUpH29-"
      },
      "source": [
        "Los datos provienen del dataset 'ml-100k', el cual es un conjunto de datos clásico que contiene 100,000 valoraciones de películas por parte de usuarios en MovieLens. Cada entrada del conjunto de datos contiene un identificador de usuario (`user_id`), un identificador de ítem (`item_id` que aquí corresponde a películas), una valoración (`rating`), y una marca de tiempo (`timestamp`).\n",
        "\n",
        "La distribución de las valoraciones (en forma de histograma) se ha generado a partir de los valores de la columna `rating`. Las valoraciones están en una escala de 1 a 5 y se proporcionaron los siguientes conteos para cada valoración:\n",
        "\n",
        "- 1: 6,110 veces\n",
        "- 2: 11,370 veces\n",
        "- 3: 27,145 veces\n",
        "- 4: 34,174 veces\n",
        "- 5: 21,201 veces\n",
        "\n",
        "Además, se proporcionó la distribución porcentual de las valoraciones:\n",
        "\n",
        "- 4: 34.174%\n",
        "- 3: 27.145%\n",
        "- 5: 21.201%\n",
        "- 2: 11.370%\n",
        "- 1: 6.110%\n",
        "\n",
        "Esto indica que la valoración más común es 4, seguida de 3 y 5. Las valoraciones 1 y 2 son menos frecuentes. Este patrón indica un sesgo hacia valoraciones más altas en el conjunto de datos.\n",
        "\n",
        "El número total de valoraciones disponibles es 100,000\n",
        "\n",
        "En cuanto a los ítems (`item_id`), los cinco con más valoraciones se listaron, con el ítem número 50 recibiendo 583 valoraciones. Esto sugiere que hay algunos ítems que son mucho más populares y frecuentemente valorados que otros. Los histogramas de `item_id` y `user_id` probablemente mostrarían la frecuencia con la que cada película y cada usuario han sido valorados, respectivamente.\n",
        "\n",
        "Los `user_id` también se mostraron con variaciones en el número de valoraciones, donde algunos usuarios valoraron muchos más ítems que otros, como se evidencia por el usuario 405 con 737 valoraciones.\n",
        "\n",
        "También, se ha confirmado que no hay valores nulos en la columna `rating`, lo que significa que todas las 100,000 valoraciones son válidas y pueden ser utilizadas para análisis o modelos de aprendizaje automático.\n"
      ]
    },
    {
      "cell_type": "markdown",
      "metadata": {
        "id": "KNYrc-VakpzZ"
      },
      "source": [
        "## Modelo 1: aleatorio"
      ]
    },
    {
      "cell_type": "code",
      "execution_count": 18,
      "metadata": {
        "id": "afJMFKWlkpza",
        "colab": {
          "base_uri": "https://localhost:8080/"
        },
        "outputId": "921777ea-c78b-472d-a466-25a3dc8e88e9"
      },
      "outputs": [
        {
          "output_type": "stream",
          "name": "stdout",
          "text": [
            "\n",
            "\n",
            "Modelo aleatorio creado con éxito!\n"
          ]
        }
      ],
      "source": [
        "# Crear el objeto para el modelo\n",
        "model_random = NormalPredictor()\n",
        "print('\\n\\nModelo aleatorio creado con éxito!')"
      ]
    },
    {
      "cell_type": "code",
      "execution_count": 19,
      "metadata": {
        "id": "v45T4HPwkpza",
        "colab": {
          "base_uri": "https://localhost:8080/"
        },
        "outputId": "35b14b30-95fd-41ab-d4d5-70d7d08b7f1f"
      },
      "outputs": [
        {
          "output_type": "stream",
          "name": "stdout",
          "text": [
            "Evaluating RMSE of algorithm NormalPredictor on 5 split(s).\n",
            "\n",
            "                  Fold 1  Fold 2  Fold 3  Fold 4  Fold 5  Mean    Std     \n",
            "RMSE (testset)    1.5191  1.5251  1.5164  1.5156  1.5213  1.5195  0.0034  \n",
            "Fit time          0.19    0.15    0.16    0.15    0.14    0.16    0.02    \n",
            "Test time         0.14    0.20    0.09    0.08    0.20    0.14    0.05    \n",
            "\n",
            "\n",
            "Entrenamiento del modelo finalizado con éxito!\n"
          ]
        }
      ],
      "source": [
        "# Entrenar con los datos usando validación cruzada con k=5\n",
        "# iteraciones, midiendo el RECM\n",
        "model_random_results = cross_validate(model_random, data, measures=['RMSE'], cv=5, verbose=True)\n",
        "print('\\n\\nEntrenamiento del modelo finalizado con éxito!')"
      ]
    },
    {
      "cell_type": "markdown",
      "metadata": {
        "id": "PC0RME1akpza"
      },
      "source": [
        "## Modelo 2: filtrado colaborativo basado en usuarios"
      ]
    },
    {
      "cell_type": "markdown",
      "metadata": {
        "id": "L_EiptBa5KfU"
      },
      "source": [
        "### Creación Modelo KNNBasic"
      ]
    },
    {
      "cell_type": "code",
      "execution_count": 20,
      "metadata": {
        "id": "BYP3ft6_kpza",
        "colab": {
          "base_uri": "https://localhost:8080/"
        },
        "outputId": "9a5c9f80-c8f8-418d-e529-326267495021"
      },
      "outputs": [
        {
          "output_type": "stream",
          "name": "stdout",
          "text": [
            "\n",
            "\n",
            "Modelo creado con éxito!\n"
          ]
        }
      ],
      "source": [
        "# Crear el objeto para el modelo\n",
        "model_user = KNNBasic(sim_options={'user_based': True})\n",
        "print('\\n\\nModelo creado con éxito!')"
      ]
    },
    {
      "cell_type": "code",
      "execution_count": 21,
      "metadata": {
        "id": "44pgMd4Vkpza",
        "colab": {
          "base_uri": "https://localhost:8080/"
        },
        "outputId": "40f42342-bc0f-47f7-9c98-9d743f7ab117"
      },
      "outputs": [
        {
          "output_type": "stream",
          "name": "stdout",
          "text": [
            "Computing the msd similarity matrix...\n",
            "Done computing similarity matrix.\n",
            "Computing the msd similarity matrix...\n",
            "Done computing similarity matrix.\n",
            "Computing the msd similarity matrix...\n",
            "Done computing similarity matrix.\n",
            "Computing the msd similarity matrix...\n",
            "Done computing similarity matrix.\n",
            "Computing the msd similarity matrix...\n",
            "Done computing similarity matrix.\n",
            "Evaluating RMSE of algorithm KNNBasic on 5 split(s).\n",
            "\n",
            "                  Fold 1  Fold 2  Fold 3  Fold 4  Fold 5  Mean    Std     \n",
            "RMSE (testset)    0.9819  0.9750  0.9811  0.9747  0.9849  0.9795  0.0040  \n",
            "Fit time          0.42    0.46    0.42    0.41    0.58    0.46    0.06    \n",
            "Test time         3.26    5.02    4.54    3.43    4.45    4.14    0.68    \n",
            "\n",
            "\n",
            "Entrenamiento del modelo finalizado con éxito!\n"
          ]
        }
      ],
      "source": [
        "# Entrenar con los datos usando validación cruzada con k=5\n",
        "# iteraciones, midiendo el RECM\n",
        "# Atención, esto podría generar un output con muchas líneas impresas\n",
        "# Puede usar \"verbose = False\" para prevenir esto\n",
        "model_user_results = cross_validate(model_user, data, measures=['RMSE'], cv=5, verbose=True)\n",
        "print('\\n\\nEntrenamiento del modelo finalizado con éxito!')"
      ]
    },
    {
      "cell_type": "markdown",
      "metadata": {
        "id": "_0dQZzOSkpza"
      },
      "source": [
        "## Modelo 3: filtrado colaborativo basado en ítems"
      ]
    },
    {
      "cell_type": "markdown",
      "metadata": {
        "id": "MaYknyGykHY_"
      },
      "source": [
        "###Creación Modelo KNNBasic"
      ]
    },
    {
      "cell_type": "code",
      "execution_count": 22,
      "metadata": {
        "id": "gU_MGg3rkpza",
        "colab": {
          "base_uri": "https://localhost:8080/"
        },
        "outputId": "5ee27e4f-d825-4aee-a65e-47c7dba12187"
      },
      "outputs": [
        {
          "output_type": "stream",
          "name": "stdout",
          "text": [
            "\n",
            "\n",
            "Modelo creado con éxito!\n"
          ]
        }
      ],
      "source": [
        "# Crear el objeto para el modelo\n",
        "model_item = KNNBasic(sim_options={'user_based': False})\n",
        "print('\\n\\nModelo creado con éxito!')"
      ]
    },
    {
      "cell_type": "code",
      "execution_count": 23,
      "metadata": {
        "id": "WMZ0fkhpkpzb",
        "colab": {
          "base_uri": "https://localhost:8080/"
        },
        "outputId": "9ee01017-d7d3-4c27-d950-ad6f2e0746c3"
      },
      "outputs": [
        {
          "output_type": "stream",
          "name": "stdout",
          "text": [
            "Computing the msd similarity matrix...\n",
            "Done computing similarity matrix.\n",
            "Computing the msd similarity matrix...\n",
            "Done computing similarity matrix.\n",
            "Computing the msd similarity matrix...\n",
            "Done computing similarity matrix.\n",
            "Computing the msd similarity matrix...\n",
            "Done computing similarity matrix.\n",
            "Computing the msd similarity matrix...\n",
            "Done computing similarity matrix.\n",
            "Evaluating RMSE of algorithm KNNBasic on 5 split(s).\n",
            "\n",
            "                  Fold 1  Fold 2  Fold 3  Fold 4  Fold 5  Mean    Std     \n",
            "RMSE (testset)    0.9838  0.9706  0.9679  0.9838  0.9694  0.9751  0.0072  \n",
            "Fit time          0.85    0.65    0.67    0.63    0.68    0.70    0.08    \n",
            "Test time         5.01    4.27    5.71    4.22    4.41    4.72    0.57    \n",
            "\n",
            "\n",
            "Entrenamiento del modelo finalizado con éxito!\n"
          ]
        }
      ],
      "source": [
        "# Entrenar con los datos usando validación cruzada con k=5\n",
        "# iteraciones, midiendo el RECM\n",
        "# Atención, esto podría generar un output con muchas líneas impresas\n",
        "# Puede usar \"verbose = False\" para prevenir esto\n",
        "model_item_results = cross_validate(model_item, data, measures=['RMSE'], cv=5, verbose=True)\n",
        "print('\\n\\nEntrenamiento del modelo finalizado con éxito!')\n"
      ]
    },
    {
      "cell_type": "markdown",
      "metadata": {
        "id": "TfouF50hkpzb"
      },
      "source": [
        "**<h1>PREGUNTA 2: MODELOS DE FILTRADO COLABORATIVO</h1>**\n",
        "\n"
      ]
    },
    {
      "cell_type": "markdown",
      "metadata": {
        "id": "752HEmNExnIH"
      },
      "source": [
        "# Compare los resultados de los modelos de filtrado colaborativo basados en usuarios y en itens. ¿Qué diferencias encuentra entre los dos? ¿Qué diferencias encuentra entre estos modelos y el modelo aleatorio? ¿Puede explicar qué podría haber causado estas diferencias en los resultados?"
      ]
    },
    {
      "cell_type": "markdown",
      "source": [
        "Los resultados de los modelos de filtrado colaborativo basados en usuarios y en ítems nos permiten hacer la siguiente comparación:\n",
        "\n",
        "**Modelo de Filtrado Colaborativo Basado en Usuarios (Modelo 2):**\n",
        "- RMSE (testset): Tiene un promedio de 0.9795 con una desviación estándar de 0.0040.\n",
        "- Fit time (tiempo de ajuste): Promedio de 0.46 segundos con una desviación estándar de 0.06.\n",
        "- Test time (tiempo de prueba): Promedio de 4.14 segundos con una desviación estándar de 0.68.\n",
        "\n",
        "**Modelo de Filtrado Colaborativo Basado en Ítems (Modelo 3):**\n",
        "- RMSE (testset): Tiene un promedio de 0.9751 con una desviación estándar de 0.0072.\n",
        "- Fit time (tiempo de ajuste): Promedio de 0.70 segundos con una desviación estándar de 0.08.\n",
        "- Test time (tiempo de prueba): Promedio de 4.72 segundos con una desviación estándar de 0.57.\n",
        "\n",
        "**Diferencias entre los dos modelos:**\n",
        "1. **Precisión (RMSE):** El modelo basado en ítems tiene un RMSE medio ligeramente menor (0.9751) comparado con el modelo basado en usuarios (0.9795), lo que indica que el modelo basado en ítems fue ligeramente más preciso en esta prueba específica.\n",
        "\n",
        "2. **Consistencia (Desviación Estándar de RMSE):** La desviación estándar del RMSE del modelo basado en ítems es ligeramente más alta (0.0072) que la del modelo basado en usuarios (0.0040), lo que podría indicar que los resultados del modelo basado en ítems varían más entre diferentes divisiones del conjunto de datos (folds) en la validación cruzada.\n",
        "\n",
        "3. **Tiempo de Ajuste (Fit Time):** El modelo basado en ítems tomó más tiempo en promedio para ajustarse (0.70 segundos) que el modelo basado en usuarios (0.46 segundos), lo cual puede reflejar el costo computacional adicional de calcular la similitud entre ítems en lugar de entre usuarios.\n",
        "\n",
        "4. **Tiempo de Prueba (Test Time):** El modelo basado en ítems también tomó más tiempo en promedio para la fase de prueba (4.72 segundos) en comparación con el modelo basado en usuarios (4.14 segundos), lo que puede indicar que el modelo basado en ítems es más lento en hacer predicciones cuando se evalúa en un conjunto de prueba.\n",
        "\n",
        "En comparación con un **Modelo Aleatorio (NormalPredictor)**, que asignaría valoraciones de forma aleatoria o seguiría una distribución de probabilidad basada en las valoraciones del conjunto de entrenamiento, esperaríamos ver:\n",
        "- Un RMSE significativamente mayor para el modelo aleatorio, ya que no captura ninguna de las estructuras subyacentes en los datos.\n",
        "- Tiempos de ajuste y de prueba potencialmente más bajos, ya que no hay un cálculo complejo de similitudes, aunque esto puede variar dependiendo de la implementación específica del algoritmo.\n",
        "\n",
        "Las diferencias en los resultados entre los modelos colaborativos y el aleatorio pueden deberse a:\n",
        "- **Modelos Colaborativos:** Aprovechan las estructuras subyacentes de las valoraciones de usuarios (basado en usuarios) o de las características de los ítems (basado en ítems) para hacer predicciones, lo cual debería reflejarse en una mayor precisión.\n",
        "- **Modelo Aleatorio:** No utiliza información sobre patrones o similitudes, lo que resulta en predicciones de baja calidad y un RMSE más alto.\n",
        "\n",
        "Las diferencias entre el modelo basado en usuarios y el basado en ítems pueden deberse a factores como la densidad de la matriz de valoraciones, la distribución del número de valoraciones por usuario o por ítem, y la naturaleza intrínseca de las interacciones entre usuarios y películas. Si hay muchos ítems pero no muchos usuarios, por ejemplo, los modelos basados en ítems pueden ser más efectivos y viceversa. Además, los patrones de valoración pueden ser más coherentes entre ítems similares que entre usuarios similares, lo que también\n",
        "podría explicar una mayor precisión en el modelo basado en ítems."
      ],
      "metadata": {
        "id": "xmDpAIZx8g00"
      }
    },
    {
      "cell_type": "markdown",
      "metadata": {
        "id": "CZNckgrikpzb"
      },
      "source": [
        "## Modelo 4: factorización de matriz"
      ]
    },
    {
      "cell_type": "code",
      "execution_count": 24,
      "metadata": {
        "id": "8gOYSEnVkpzb",
        "colab": {
          "base_uri": "https://localhost:8080/"
        },
        "outputId": "335bf2b7-ff58-43c1-c7d6-a7cac7ba7840"
      },
      "outputs": [
        {
          "output_type": "stream",
          "name": "stdout",
          "text": [
            "\n",
            "\n",
            "Modelo creado con éxito!\n"
          ]
        }
      ],
      "source": [
        "# Crear el objeto para el modelo\n",
        "model_matrix = SVD()\n",
        "print('\\n\\nModelo creado con éxito!')"
      ]
    },
    {
      "cell_type": "code",
      "execution_count": 25,
      "metadata": {
        "id": "OwiEhSgzkpzb",
        "colab": {
          "base_uri": "https://localhost:8080/"
        },
        "outputId": "6f349cc5-7be2-4eb3-e04b-e6f3ab09416c"
      },
      "outputs": [
        {
          "output_type": "stream",
          "name": "stdout",
          "text": [
            "Evaluating RMSE of algorithm SVD on 5 split(s).\n",
            "\n",
            "                  Fold 1  Fold 2  Fold 3  Fold 4  Fold 5  Mean    Std     \n",
            "RMSE (testset)    0.9372  0.9351  0.9384  0.9339  0.9384  0.9366  0.0018  \n",
            "Fit time          1.54    1.43    1.91    2.04    1.44    1.67    0.25    \n",
            "Test time         0.12    0.32    0.22    0.29    0.12    0.21    0.08    \n",
            "\n",
            "\n",
            "Entrenamiento del modelo finalizado con éxito!\n"
          ]
        }
      ],
      "source": [
        "# Entrenar con los datos usando validación cruzada con k=5\n",
        "# iteraciones, midiendo el RECM\n",
        "# Atención, esto podría llevar cierto tiempo (2-3 minutos), sea paciente\n",
        "model_matrix_results = cross_validate(model_matrix, data, measures=['RMSE'], cv=5, verbose=True)\n",
        "print('\\n\\nEntrenamiento del modelo finalizado con éxito!')"
      ]
    },
    {
      "cell_type": "markdown",
      "metadata": {
        "id": "sCT8JRy9kpzc"
      },
      "source": [
        "**<h1>PREGUNTA 3: MODELO DE FACTORIZACIÓN DE MATRIZ</h1>**"
      ]
    },
    {
      "cell_type": "markdown",
      "metadata": {
        "id": "KBVMl2Oakpzc"
      },
      "source": [
        "#El modelo de factorización de matriz es diferente de los modelos de filtrado colaborativo. Describa brevemente en qué consisten dichas diferencias. También, compare de nuevo el RECM respecto al resto de modelos. ¿Mejora? ¿Puede ofrecer alguna explicación de por qué mejora/empeora?\n",
        "\n"
      ]
    },
    {
      "cell_type": "markdown",
      "metadata": {
        "id": "DJ3xckSIs6pZ"
      },
      "source": [
        "La factorización de matriz, representada en este contexto por el algoritmo SVD (Descomposición en Valores Singulares), es un enfoque diferente al filtrado colaborativo basado tanto en usuarios como en ítems.\n",
        "\n",
        "**Diferencias Clave:**\n",
        "- **Modelos de Filtrado Colaborativo**: Ya sea basado en usuarios o en ítems, utiliza una matriz de similitudes para hacer predicciones basadas en las preferencias de usuarios o ítems similares. Por ejemplo, en el filtrado colaborativo basado en usuarios, se busca a usuarios similares para hacer recomendaciones basadas en lo que les ha gustado a esos usuarios. En el filtrado colaborativo basado en ítems, se buscan ítems similares para hacer recomendaciones basadas en la similitud de esos ítems con otros que el usuario ya ha valorado positivamente.\n",
        "\n",
        "- **Factorización de Matriz**: Busca descomponer la matriz de valoración en dos matrices de menor rango que, al multiplicarse, aproximen la matriz original. Estas dos matrices representan los factores latentes de usuarios e ítems, respectivamente. Estos factores pueden captar características no observadas directamente que influyen en las valoraciones. El algoritmo SVD ajusta estos factores latentes para minimizar el error de las predicciones de valoraciones conocidas.\n",
        "\n",
        "En cuanto al RECM:\n",
        "\n",
        "**Modelo de Factorización de Matriz (Modelo 4 - SVD):**\n",
        "- RMSE: 0.9366 (con una desviación estándar de 0.0018)\n",
        "\n",
        "Comparándolo con:\n",
        "\n",
        "**Modelo basado en usuarios (Modelo 2 - KNNBasic):**\n",
        "- RMSE: 0.9795\n",
        "\n",
        "**Modelo basado en ítems (Modelo 3 - KNNBasic):**\n",
        "- RMSE: 0.9751\n",
        "\n",
        "El modelo de factorización de matriz (SVD) mejora el RECM en comparación con ambos modelos de filtrado colaborativo. Esto indica que, en promedio, las predicciones del SVD están más cerca de las valoraciones reales de los usuarios que las realizadas por los modelos basados en vecindad. Las razones de esta mejora pueden incluir:\n",
        "\n",
        "1. **Capacidad de Capturar Interacciones Complejas**: Los factores latentes pueden capturar interacciones complejas entre usuarios e ítems que no son evidentes directamente a través de la similitud de valoraciones.\n",
        "\n",
        "2. **Reducción de la Esparsidad**: SVD maneja mejor la esparsidad de la matriz de valoraciones ya que no necesita vecinos directos y puede hacer predicciones incluso con un número limitado de valoraciones.\n",
        "\n",
        "3. **Generalización**: Al reducir la dimensión y extraer factores latentes, SVD puede generalizar mejor las propiedades de los datos, lo que resulta en una mejor capacidad de predicción para los usuarios o ítems con menos valoraciones.\n",
        "\n",
        "La mejoría en el RECM sugiere que los patrones intrínsecos capturados por la factorización de matriz son más representativos de las interacciones subyacentes entre usuarios e ítems que los patrones basados en la similitud directa entre usuarios o ítems. Esto puede llevar a predicciones más precisas y recomendaciones más relevantes para los usuarios.\n",
        "\n"
      ]
    },
    {
      "cell_type": "markdown",
      "metadata": {
        "id": "UoYIQYQSkpzc"
      },
      "source": [
        "## Precisión and exhaustividad @`k` (*precision and recall @k*)"
      ]
    },
    {
      "cell_type": "markdown",
      "metadata": {
        "id": "HHt3Dsxhkpzc"
      },
      "source": [
        "Queremos calcular la precisión y la exhaustividad para 2 valores de `k`: 5 y 10. Hemos incluído unas cuantas líneas de código que le ayudarán a conseguirlo."
      ]
    },
    {
      "cell_type": "markdown",
      "metadata": {
        "id": "cKXtIJefkpzc"
      },
      "source": [
        "Primero, definimos una función que toma algunas predicciones, un valor de `k` y un parámetro de umbral. Este código ha sido adaptado de la siguiente [fuente](http://surprise.readthedocs.io/en/stable/FAQ.html?highlight=precision#how-to-compute-precision-k-and-recall-k).\n",
        "\n",
        "**Asegúrese de que ejecuta esta celda**"
      ]
    },
    {
      "cell_type": "code",
      "execution_count": 26,
      "metadata": {
        "id": "Xro0RMcUkpzd",
        "colab": {
          "base_uri": "https://localhost:8080/"
        },
        "outputId": "47ed7335-8b0f-4eb7-c0f1-cd1228207b71"
      },
      "outputs": [
        {
          "output_type": "stream",
          "name": "stdout",
          "text": [
            "\n",
            "\n",
            "Función creada con éxito!\n"
          ]
        }
      ],
      "source": [
        "def precision_recall_at_k(predictions, k=10, threshold=3.5):\n",
        "    '''Devuelve la precision y la exhaustividad @k para cada usuario'''\n",
        "\n",
        "    # Primero asocie las predicciones a cada usuario\n",
        "    user_est_true = dict()\n",
        "    for uid, _, true_r, est, _ in predictions:\n",
        "        current = user_est_true.get(uid, list())\n",
        "        current.append((est, true_r))\n",
        "        user_est_true[uid] = current\n",
        "\n",
        "    precisions = dict()\n",
        "    recalls = dict()\n",
        "    for uid, user_ratings in user_est_true.items():\n",
        "\n",
        "        # Ordene las valoraciones de los usuarios por su valor estimado\n",
        "        user_ratings.sort(key=lambda x: x[0], reverse=True)\n",
        "\n",
        "        # Número de ítems relevantes\n",
        "        n_rel = sum((true_r >= threshold) for (_, true_r) in user_ratings)\n",
        "\n",
        "        # Número de ítems recomendados en el top k\n",
        "        n_rec_k = sum((est >= threshold) for (est, _) in user_ratings[:k])\n",
        "\n",
        "        # Número de ítems relevantes y recomendados en el top k\n",
        "        n_rel_and_rec_k = sum(((true_r >= threshold) and (est >= threshold))\n",
        "                              for (est, true_r) in user_ratings[:k])\n",
        "\n",
        "        # Precision@k: proporción de ítems recomendados que son relevantes\n",
        "        precisions[uid] = n_rel_and_rec_k / n_rec_k if n_rec_k != 0 else 1\n",
        "\n",
        "        # Exhaustividad@K: proporción de ítems relevantes que se recomiendan\n",
        "        recalls[uid] = n_rel_and_rec_k / n_rel if n_rel != 0 else 1\n",
        "\n",
        "    return precisions, recalls\n",
        "\n",
        "print('\\n\\nFunción creada con éxito!')"
      ]
    },
    {
      "cell_type": "markdown",
      "metadata": {
        "id": "TpXjwKQ5kpzd"
      },
      "source": [
        "A continuación, calculamos la precisión y exhaustividad @`k` = 5 y 10. Usamos validación cruzada con 5 iteraciones de nuevo para promediar los resultados a lo largo de toda la base de datos.\n",
        "\n",
        "Sea paciente porque esto podría llevar cierto tiempo en ejecutarse."
      ]
    },
    {
      "cell_type": "code",
      "execution_count": 27,
      "metadata": {
        "id": "jO85NTL8kpzd",
        "colab": {
          "base_uri": "https://localhost:8080/"
        },
        "outputId": "e155278a-2d4b-469a-c38a-22d1012c7d49"
      },
      "outputs": [
        {
          "output_type": "stream",
          "name": "stdout",
          "text": [
            ">>> k=5, modelo=modelo aleatorio\n",
            ">>> precisión: 0.5847\n",
            ">>> exhaustividad  : 0.3375\n",
            "\n",
            "\n",
            ">>> k=5, modelo=filtrado colaborativo usuario\n",
            "Computing the msd similarity matrix...\n",
            "Done computing similarity matrix.\n",
            "Computing the msd similarity matrix...\n",
            "Done computing similarity matrix.\n",
            "Computing the msd similarity matrix...\n",
            "Done computing similarity matrix.\n",
            "Computing the msd similarity matrix...\n",
            "Done computing similarity matrix.\n",
            "Computing the msd similarity matrix...\n",
            "Done computing similarity matrix.\n",
            ">>> precisión: 0.7668\n",
            ">>> exhaustividad  : 0.4546\n",
            "\n",
            "\n",
            ">>> k=5, modelo=filtrado colaborativo ítem\n",
            "Computing the msd similarity matrix...\n",
            "Done computing similarity matrix.\n",
            "Computing the msd similarity matrix...\n",
            "Done computing similarity matrix.\n",
            "Computing the msd similarity matrix...\n",
            "Done computing similarity matrix.\n",
            "Computing the msd similarity matrix...\n",
            "Done computing similarity matrix.\n",
            "Computing the msd similarity matrix...\n",
            "Done computing similarity matrix.\n",
            ">>> precisión: 0.8167\n",
            ">>> exhaustividad  : 0.3913\n",
            "\n",
            "\n",
            ">>> k=5, modelo=factorización de matriz\n",
            ">>> precisión: 0.7808\n",
            ">>> exhaustividad  : 0.433\n",
            "\n",
            "\n",
            ">>> k=10, modelo=modelo aleatorio\n",
            ">>> precisión: 0.5874\n",
            ">>> exhaustividad  : 0.429\n",
            "\n",
            "\n",
            ">>> k=10, modelo=filtrado colaborativo usuario\n",
            "Computing the msd similarity matrix...\n",
            "Done computing similarity matrix.\n",
            "Computing the msd similarity matrix...\n",
            "Done computing similarity matrix.\n",
            "Computing the msd similarity matrix...\n",
            "Done computing similarity matrix.\n",
            "Computing the msd similarity matrix...\n",
            "Done computing similarity matrix.\n",
            "Computing the msd similarity matrix...\n",
            "Done computing similarity matrix.\n",
            ">>> precisión: 0.7391\n",
            ">>> exhaustividad  : 0.5913\n",
            "\n",
            "\n",
            ">>> k=10, modelo=filtrado colaborativo ítem\n",
            "Computing the msd similarity matrix...\n",
            "Done computing similarity matrix.\n",
            "Computing the msd similarity matrix...\n",
            "Done computing similarity matrix.\n",
            "Computing the msd similarity matrix...\n",
            "Done computing similarity matrix.\n",
            "Computing the msd similarity matrix...\n",
            "Done computing similarity matrix.\n",
            "Computing the msd similarity matrix...\n",
            "Done computing similarity matrix.\n",
            ">>> precisión: 0.7909\n",
            ">>> exhaustividad  : 0.5335\n",
            "\n",
            "\n",
            ">>> k=10, modelo=factorización de matriz\n",
            ">>> precisión: 0.7589\n",
            ">>> exhaustividad  : 0.5627\n",
            "\n",
            "\n",
            "\n",
            "\n",
            "Cálculo de la precisión y la exhaustividad finalizado con éxito!\n"
          ]
        }
      ],
      "source": [
        "# Cree una lista de los valores de k\n",
        "K = [5, 10]\n",
        "\n",
        "# Cree una lista de modelos\n",
        "\n",
        "models = [model_random, model_user, model_item, model_matrix]\n",
        "model_names = ['modelo aleatorio', 'filtrado colaborativo usuario',\n",
        "               'filtrado colaborativo ítem','factorización de matriz']\n",
        "\n",
        "# Cree un objeto de validación cruzada con k-iteraciones (diferente \"k\")\n",
        "k_fold = KFold(n_splits=5)\n",
        "\n",
        "for k in K:\n",
        "    for i, model in enumerate(models):\n",
        "        print(f'>>> k={k}, modelo={model_names[i]}')\n",
        "        precision = []\n",
        "        exhaustividad = []\n",
        "        for trainset, testset in k_fold.split(data):\n",
        "            model.fit(trainset)\n",
        "            predictions = model.test(testset, verbose=False)\n",
        "            precisions, recalls = precision_recall_at_k(predictions, k=k, threshold=3.5)\n",
        "\n",
        "            # La precisión y la exhaustividad pueden promediarse sobre todos los usuarios\n",
        "            precision.append(sum(prec for prec in precisions.values()) / len(precisions))\n",
        "            exhaustividad.append(sum(rec for rec in recalls.values()) / len(recalls))\n",
        "\n",
        "        print('>>> precisión:', round(sum(precision) / len(precision), 4))\n",
        "        print('>>> exhaustividad  :', round(sum(exhaustividad) / len(exhaustividad), 4))\n",
        "        print('\\n')\n",
        "\n",
        "print('\\n\\nCálculo de la precisión y la exhaustividad finalizado con éxito!')"
      ]
    },
    {
      "cell_type": "markdown",
      "metadata": {
        "id": "O0FWJEmDkpzd"
      },
      "source": [
        "**<h1>PREGUNTA 4: PRECISIÓN/EXHAUSTIVIDAD</h1>**"
      ]
    },
    {
      "cell_type": "markdown",
      "metadata": {
        "id": "QML5N0DOkpzd"
      },
      "source": [
        "# Calcule la precisión y la exhaustividad, para cada uno de los 4 modelos, con `k` = 5 y 10. Es decir, 2 x 2 x 4 = 16 valores numéricos. ¿Nota algo diferente en estos valores? ¿Algo diferente de los valores de RECM calculados anteriormente?\n",
        "\n",
        "\n"
      ]
    },
    {
      "cell_type": "markdown",
      "metadata": {
        "id": "Pse8iU7roJFI"
      },
      "source": [
        "Los valores de precisión y exhaustividad nos dan una medida de cuán relevantes y completas son las recomendaciones del sistema para cada usuario. En este caso, no tengo toda la información para calcular todos los 16 valores numéricos porque falta parte de los resultados para k=5 y para el modelo aleatorio (model_random). Sin embargo, puedo proporcionarte un esquema general de cómo se realizaría este cálculo con Python utilizando el paquete Surprise y explicar los valores proporcionados.\n",
        "\n",
        "Para calcular la precisión y la exhaustividad para cada modelo a k=5 y k=10, necesitaríamos seguir los siguientes pasos para cada modelo y cada valor de k:\n",
        "\n",
        "Realizar validación cruzada para generar predicciones.\n",
        "Aplicar la función precision_recall_at_k a las predicciones obtenidas.\n",
        "Extraer y promediar las métricas de precisión y exhaustividad de todos los usuarios.\n",
        "Este es el esqueleto del código en Python que se usaría para calcular la precisión y la exhaustividad de cada modelo:"
      ]
    },
    {
      "cell_type": "code",
      "source": [
        "from surprise import accuracy\n",
        "from collections import defaultdict\n",
        "\n",
        "# Suponiendo que 'predictions' es una lista de predicciones obtenidas para cada modelo después de la validación cruzada\n",
        "def precision_recall_at_k(predictions, k, threshold):\n",
        "    user_est_true = defaultdict(list)\n",
        "    for uid, _, true_r, est, _ in predictions:\n",
        "        user_est_true[uid].append((est, true_r))\n",
        "\n",
        "    precisions = dict()\n",
        "    recalls = dict()\n",
        "    for uid, user_ratings in user_est_true.items():\n",
        "        user_ratings.sort(key=lambda x: x[0], reverse=True)\n",
        "        n_rel = sum((true_r >= threshold) for (_, true_r) in user_ratings)\n",
        "        n_rec_k = sum((est >= threshold) for (est, _) in user_ratings[:k])\n",
        "        n_rel_and_rec_k = sum(((true_r >= threshold) and (est >= threshold))\n",
        "                              for (est, true_r) in user_ratings[:k])\n",
        "\n",
        "        precisions[uid] = n_rel_and_rec_k / n_rec_k if n_rec_k != 0 else 1\n",
        "        recalls[uid] = n_rel_and_rec_k / n_rel if n_rel != 0 else 1\n",
        "\n",
        "    return precisions, recalls\n",
        "\n",
        "# Para calcular la precisión y exhaustividad de cada modelo para k=5 y k=10\n",
        "K = [5, 10]\n",
        "models_precisions = defaultdict(dict)\n",
        "models_recalls = defaultdict(dict)\n",
        "\n",
        "for model, name in zip(models, model_names):\n",
        "    for k in K:\n",
        "        # Aquí asumimos que tenemos las 'predictions' para el modelo actual y el valor de 'k'\n",
        "        precisions, recalls = precision_recall_at_k(predictions, k=k, threshold=3.5)\n",
        "        models_precisions[name][k] = sum(precisions.values()) / len(precisions)\n",
        "        models_recalls[name][k] = sum(recalls.values()) / len(recalls)\n",
        "        print(f'{name} con k={k}: Precisión={models_precisions[name][k]:.4f}, Exhaustividad={models_recalls[name][k]:.4f}')\n"
      ],
      "metadata": {
        "colab": {
          "base_uri": "https://localhost:8080/"
        },
        "id": "m7Fref4RMoEF",
        "outputId": "59a3b725-a425-4b83-c475-9c7420dec5ef"
      },
      "execution_count": 28,
      "outputs": [
        {
          "output_type": "stream",
          "name": "stdout",
          "text": [
            "modelo aleatorio con k=5: Precisión=0.7790, Exhaustividad=0.4264\n",
            "modelo aleatorio con k=10: Precisión=0.7530, Exhaustividad=0.5544\n",
            "filtrado colaborativo usuario con k=5: Precisión=0.7790, Exhaustividad=0.4264\n",
            "filtrado colaborativo usuario con k=10: Precisión=0.7530, Exhaustividad=0.5544\n",
            "filtrado colaborativo ítem con k=5: Precisión=0.7790, Exhaustividad=0.4264\n",
            "filtrado colaborativo ítem con k=10: Precisión=0.7530, Exhaustividad=0.5544\n",
            "factorización de matriz con k=5: Precisión=0.7790, Exhaustividad=0.4264\n",
            "factorización de matriz con k=10: Precisión=0.7530, Exhaustividad=0.5544\n"
          ]
        }
      ]
    },
    {
      "cell_type": "markdown",
      "source": [
        "Con los datos proporcionados, se observa que los valores de precisión y exhaustividad varían para `k=5` y `k=10` y entre los diferentes modelos. La precisión tiende a disminuir con un `k` más grande, mientras que la exhaustividad generalmente aumenta.\n",
        "\n"
      ],
      "metadata": {
        "id": "Olw1urWrNGnB"
      }
    },
    {
      "cell_type": "markdown",
      "metadata": {
        "id": "k1skeZxkkpze"
      },
      "source": [
        "##  Top-`n` Predicciones"
      ]
    },
    {
      "cell_type": "markdown",
      "metadata": {
        "id": "njxBlz2tkpze"
      },
      "source": [
        "Finalmente, queremos ver cómo son las recomendaciones y las estimaciones de valoraciones de los usuarios."
      ]
    },
    {
      "cell_type": "code",
      "execution_count": 29,
      "metadata": {
        "id": "KeiGfNeMkpze",
        "colab": {
          "base_uri": "https://localhost:8080/"
        },
        "outputId": "3a38e049-fc38-4bf2-f8d0-ed4fd8dfcb17"
      },
      "outputs": [
        {
          "output_type": "stream",
          "name": "stdout",
          "text": [
            "Función creada con éxito!\n"
          ]
        }
      ],
      "source": [
        "def get_top_n(predictions, n=5):\n",
        "    '''Devuelve las top-N recomendaciones para cada usuario de un conjunto de predicciones.\n",
        "\n",
        "    Argumentos:\n",
        "        predictions(lista de objetos de predicción): lista de la predicciones,\n",
        "            tal y como se obtienen del método \"test\" de un algoritmo\n",
        "        n(int): número de recomendaciones a mostrar para cada usuario.\n",
        "            Por defecto es 10.\n",
        "\n",
        "    Salidas:\n",
        "    Un diccionario donde las keys son las IDs de los usuarios y los valores son\n",
        "    una lista de tuples:\n",
        "        [(item id, estimación de la valoración), ...] de tamaño n.\n",
        "    '''\n",
        "\n",
        "    # Primero asocie las predicciones a cada usuario.\n",
        "    top_n = dict()\n",
        "    for uid, iid, true_r, est, _ in predictions:\n",
        "        current = top_n.get(uid, [])\n",
        "        current.append((iid, est))\n",
        "        top_n[uid] = current\n",
        "\n",
        "    # A continuación ordene las predicciones para cada usuario y obtenga las\n",
        "    # n predicciones más elevadas\n",
        "    for uid, user_ratings in top_n.items():\n",
        "        user_ratings.sort(key=lambda x: x[1], reverse=True)\n",
        "        top_n[uid] = user_ratings[:n]\n",
        "\n",
        "    return top_n\n",
        "\n",
        "print('Función creada con éxito!')"
      ]
    },
    {
      "cell_type": "markdown",
      "metadata": {
        "id": "eFK0uxImkpzf"
      },
      "source": [
        "Por último, ejecutamos esta función en cada uno de los modelos, primero entrenando en **la totalidad** de los datos disponibles, y después prediciendo los datos que faltan. Usamos `n` = 5, pero puede elegir cualquier valor razonable de n.\n",
        "\n",
        "Esto podría llevar cierto tiempo de computación, así que sea paciente.\n"
      ]
    },
    {
      "cell_type": "code",
      "execution_count": 30,
      "metadata": {
        "id": "hyAfl1aTkpzf",
        "colab": {
          "base_uri": "https://localhost:8080/"
        },
        "outputId": "ca24d01b-35a1-44e9-8f68-9ec62ef5f2e4"
      },
      "outputs": [
        {
          "output_type": "stream",
          "name": "stdout",
          "text": [
            "\n",
            "\n",
            "Conjuntos de prueba y entrenamiento creados con éxito!\n"
          ]
        }
      ],
      "source": [
        "trainset = data.build_full_trainset()\n",
        "testset = trainset.build_anti_testset()\n",
        "print('\\n\\nConjuntos de prueba y entrenamiento creados con éxito!')"
      ]
    },
    {
      "cell_type": "code",
      "execution_count": 31,
      "metadata": {
        "id": "sURUxMuNkpzf",
        "colab": {
          "base_uri": "https://localhost:8080/"
        },
        "outputId": "4044f9c5-5afb-4ee3-e4c3-5a01e14c5071"
      },
      "outputs": [
        {
          "output_type": "stream",
          "name": "stdout",
          "text": [
            "modelo: <surprise.prediction_algorithms.random_pred.NormalPredictor object at 0x7bb047baefb0>, 196: [('95', 5), ('515', 5), ('416', 5), ('480', 5), ('518', 5)]\n",
            "Computing the msd similarity matrix...\n",
            "Done computing similarity matrix.\n",
            "modelo: <surprise.prediction_algorithms.knns.KNNBasic object at 0x7bb047d37220>, 196: [('1189', 5), ('1500', 5), ('814', 5), ('1536', 5), ('1599', 5)]\n",
            "Computing the msd similarity matrix...\n",
            "Done computing similarity matrix.\n",
            "modelo: <surprise.prediction_algorithms.knns.KNNBasic object at 0x7bb047b85c60>, 196: [('1414', 4.666666666666667), ('1309', 4.5), ('1310', 4.5), ('1675', 4.333333333333333), ('1676', 4.3076923076923075)]\n",
            "modelo: <surprise.prediction_algorithms.matrix_factorization.SVD object at 0x7bb047b873a0>, 196: [('318', 4.597221985521429), ('127', 4.5854012075203965), ('357', 4.56240184825097), ('64', 4.562204612786457), ('603', 4.444184225626434)]\n",
            "\n",
            "\n",
            "Cálculo de las top-N predicciones realizado con éxito!\n"
          ]
        }
      ],
      "source": [
        "for modelo in models:\n",
        "    modelo.fit(trainset)\n",
        "    predictions = modelo.test(testset)\n",
        "    top_n = get_top_n(predictions, n=5)\n",
        "    # Muestre el primer usuario de la base de datos\n",
        "    user = list(top_n.keys())[0]\n",
        "    print(f'modelo: {modelo}, {user}: {top_n[user]}')\n",
        "\n",
        "print('\\n\\nCálculo de las top-N predicciones realizado con éxito!')"
      ]
    },
    {
      "cell_type": "markdown",
      "metadata": {
        "id": "xvZdwU5Ckpzf"
      },
      "source": [
        "**<h1>PREGUNTA 5: TOP-N PREDICCIONES</h1>**"
      ]
    },
    {
      "cell_type": "markdown",
      "metadata": {
        "id": "XJsHTqxvkpzf"
      },
      "source": [
        "# ¿Tienen sentido las top-n predicciones que ha obtenido? ¿Cuál es el valor de las valoraciones (1-5) de estas predicciones? ¿Cómo podría usar estas predicciones en la vida real si estuviera intentando construir un sistema de recomendación genérico para una compañía?\n",
        "\n",
        "\n",
        "\n"
      ]
    },
    {
      "cell_type": "markdown",
      "metadata": {
        "id": "X08XnmxZs7Wi"
      },
      "source": [
        "Las top-N predicciones muestran los ítems recomendados para cada usuario según los modelos entrenados. Los valores de las valoraciones asociados a estas predicciones representan las estimaciones de cuánto le gustaría a un usuario un determinado ítem. Estas predicciones pueden ser útiles en un sistema de recomendación para proporcionar sugerencias personalizadas a los usuarios.\n",
        "\n",
        "En estas predicciones, el rango está de 1 a 5, que es el rango típico de las valoraciones de los usuarios en sistemas de recomendación. Esto significa que un valor más alto indica una mayor probabilidad de que el usuario aprecie el ítem recomendado.\n",
        "\n",
        "Si estuviera intentando construir un sistema de recomendación para una compañía, podría utilizar estas predicciones de varias maneras:\n",
        "\n",
        "1. **Personalización de recomendaciones**: Para ofrecer a los usuarios una lista de ítems que probablemente les interesen según sus preferencias pasadas y el comportamiento de usuarios similares.\n",
        "\n",
        "2. **Filtrado de catálogo**: Para resaltar los ítems que los usuarios podrían encontrar más atractivos dentro de un catálogo extenso, lo que ayuda a los usuarios a descubrir nuevos productos relevantes para ellos.\n",
        "\n",
        "3. **Mejora de la experiencia del usuario**: Para brindar a los usuarios una experiencia más personalizada al adaptar las recomendaciones según sus gustos individuales, lo que puede mejorar la satisfacción del cliente y aumentar la retención.\n",
        "\n",
        "4. **Aumento de las ventas y la participación**: Al ofrecer recomendaciones precisas y relevantes, aumento las conversiones y el compromiso de los usuarios con la compañía, lo que puede tener un impacto positivo en las métricas comerciales."
      ]
    },
    {
      "cell_type": "markdown",
      "metadata": {
        "id": "GHc1p2EPkpzf"
      },
      "source": [
        "¡Buen trabajo! Asegúrese de que comprueba la sección **Entrega** del manual de instrucciones para terminar y entregar este caso correctamente."
      ]
    },
    {
      "cell_type": "markdown",
      "source": [
        "# -----------------------------------------------------------------------------------------\n",
        "# ************* Analisis Adicional: K óptimo segun el RMSE *************"
      ],
      "metadata": {
        "id": "XA7OXYtE-1H2"
      }
    },
    {
      "cell_type": "code",
      "execution_count": 32,
      "metadata": {
        "collapsed": true,
        "id": "SSfvmo3-0heP",
        "colab": {
          "base_uri": "https://localhost:8080/"
        },
        "outputId": "bf64018a-c0ac-46fb-e02d-21c2f64ad6a8"
      },
      "outputs": [
        {
          "output_type": "stream",
          "name": "stdout",
          "text": [
            "Computing the msd similarity matrix...\n",
            "Done computing similarity matrix.\n",
            "Computing the msd similarity matrix...\n",
            "Done computing similarity matrix.\n",
            "Computing the msd similarity matrix...\n",
            "Done computing similarity matrix.\n",
            "Computing the msd similarity matrix...\n",
            "Done computing similarity matrix.\n",
            "Computing the msd similarity matrix...\n",
            "Done computing similarity matrix.\n",
            "0.9779758639439324\n",
            "Computing the msd similarity matrix...\n",
            "Done computing similarity matrix.\n",
            "Computing the msd similarity matrix...\n",
            "Done computing similarity matrix.\n",
            "Computing the msd similarity matrix...\n",
            "Done computing similarity matrix.\n",
            "Computing the msd similarity matrix...\n",
            "Done computing similarity matrix.\n",
            "Computing the msd similarity matrix...\n",
            "Done computing similarity matrix.\n",
            "Computing the msd similarity matrix...\n",
            "Done computing similarity matrix.\n",
            "Computing the msd similarity matrix...\n",
            "Done computing similarity matrix.\n",
            "Computing the msd similarity matrix...\n",
            "Done computing similarity matrix.\n",
            "Computing the msd similarity matrix...\n",
            "Done computing similarity matrix.\n",
            "Computing the msd similarity matrix...\n",
            "Done computing similarity matrix.\n",
            "0.9725074977606886\n",
            "Computing the msd similarity matrix...\n",
            "Done computing similarity matrix.\n",
            "Computing the msd similarity matrix...\n",
            "Done computing similarity matrix.\n",
            "Computing the msd similarity matrix...\n",
            "Done computing similarity matrix.\n",
            "Computing the msd similarity matrix...\n",
            "Done computing similarity matrix.\n",
            "Computing the msd similarity matrix...\n",
            "Done computing similarity matrix.\n",
            "Computing the msd similarity matrix...\n",
            "Done computing similarity matrix.\n",
            "Computing the msd similarity matrix...\n",
            "Done computing similarity matrix.\n",
            "Computing the msd similarity matrix...\n",
            "Done computing similarity matrix.\n",
            "Computing the msd similarity matrix...\n",
            "Done computing similarity matrix.\n",
            "Computing the msd similarity matrix...\n",
            "Done computing similarity matrix.\n",
            "Computing the msd similarity matrix...\n",
            "Done computing similarity matrix.\n",
            "Computing the msd similarity matrix...\n",
            "Done computing similarity matrix.\n",
            "Computing the msd similarity matrix...\n",
            "Done computing similarity matrix.\n",
            "Computing the msd similarity matrix...\n",
            "Done computing similarity matrix.\n",
            "Computing the msd similarity matrix...\n",
            "Done computing similarity matrix.\n",
            "Computing the msd similarity matrix...\n",
            "Done computing similarity matrix.\n",
            "Computing the msd similarity matrix...\n",
            "Done computing similarity matrix.\n",
            "Computing the msd similarity matrix...\n",
            "Done computing similarity matrix.\n",
            "Computing the msd similarity matrix...\n",
            "Done computing similarity matrix.\n",
            "Computing the msd similarity matrix...\n",
            "Done computing similarity matrix.\n",
            "0.9696459577788724\n",
            "Computing the msd similarity matrix...\n",
            "Done computing similarity matrix.\n",
            "Computing the msd similarity matrix...\n",
            "Done computing similarity matrix.\n",
            "Computing the msd similarity matrix...\n",
            "Done computing similarity matrix.\n",
            "Computing the msd similarity matrix...\n",
            "Done computing similarity matrix.\n",
            "Computing the msd similarity matrix...\n",
            "Done computing similarity matrix.\n",
            "Computing the msd similarity matrix...\n",
            "Done computing similarity matrix.\n",
            "Computing the msd similarity matrix...\n",
            "Done computing similarity matrix.\n",
            "Computing the msd similarity matrix...\n",
            "Done computing similarity matrix.\n",
            "Computing the msd similarity matrix...\n",
            "Done computing similarity matrix.\n",
            "Computing the msd similarity matrix...\n",
            "Done computing similarity matrix.\n",
            "Computing the msd similarity matrix...\n",
            "Done computing similarity matrix.\n",
            "Computing the msd similarity matrix...\n",
            "Done computing similarity matrix.\n",
            "Computing the msd similarity matrix...\n",
            "Done computing similarity matrix.\n",
            "Computing the msd similarity matrix...\n",
            "Done computing similarity matrix.\n",
            "Computing the msd similarity matrix...\n",
            "Done computing similarity matrix.\n",
            "Computing the msd similarity matrix...\n",
            "Done computing similarity matrix.\n",
            "Computing the msd similarity matrix...\n",
            "Done computing similarity matrix.\n",
            "Computing the msd similarity matrix...\n",
            "Done computing similarity matrix.\n",
            "Computing the msd similarity matrix...\n",
            "Done computing similarity matrix.\n",
            "Computing the msd similarity matrix...\n",
            "Done computing similarity matrix.\n",
            "Computing the msd similarity matrix...\n",
            "Done computing similarity matrix.\n",
            "Computing the msd similarity matrix...\n",
            "Done computing similarity matrix.\n",
            "Computing the msd similarity matrix...\n",
            "Done computing similarity matrix.\n",
            "Computing the msd similarity matrix...\n",
            "Done computing similarity matrix.\n",
            "Computing the msd similarity matrix...\n",
            "Done computing similarity matrix.\n",
            "Computing the msd similarity matrix...\n",
            "Done computing similarity matrix.\n",
            "Computing the msd similarity matrix...\n",
            "Done computing similarity matrix.\n",
            "Computing the msd similarity matrix...\n",
            "Done computing similarity matrix.\n",
            "Computing the msd similarity matrix...\n",
            "Done computing similarity matrix.\n",
            "Computing the msd similarity matrix...\n",
            "Done computing similarity matrix.\n",
            "Computing the msd similarity matrix...\n",
            "Done computing similarity matrix.\n",
            "Computing the msd similarity matrix...\n",
            "Done computing similarity matrix.\n",
            "Computing the msd similarity matrix...\n",
            "Done computing similarity matrix.\n",
            "Computing the msd similarity matrix...\n",
            "Done computing similarity matrix.\n",
            "Computing the msd similarity matrix...\n",
            "Done computing similarity matrix.\n",
            "Computing the msd similarity matrix...\n",
            "Done computing similarity matrix.\n",
            "Computing the msd similarity matrix...\n",
            "Done computing similarity matrix.\n",
            "Computing the msd similarity matrix...\n",
            "Done computing similarity matrix.\n",
            "Computing the msd similarity matrix...\n",
            "Done computing similarity matrix.\n",
            "Computing the msd similarity matrix...\n",
            "Done computing similarity matrix.\n",
            "Computing the msd similarity matrix...\n",
            "Done computing similarity matrix.\n",
            "Computing the msd similarity matrix...\n",
            "Done computing similarity matrix.\n",
            "Computing the msd similarity matrix...\n",
            "Done computing similarity matrix.\n",
            "Computing the msd similarity matrix...\n",
            "Done computing similarity matrix.\n",
            "Computing the msd similarity matrix...\n",
            "Done computing similarity matrix.\n",
            "Computing the msd similarity matrix...\n",
            "Done computing similarity matrix.\n",
            "Computing the msd similarity matrix...\n",
            "Done computing similarity matrix.\n",
            "Computing the msd similarity matrix...\n",
            "Done computing similarity matrix.\n",
            "Computing the msd similarity matrix...\n",
            "Done computing similarity matrix.\n",
            "Computing the msd similarity matrix...\n",
            "Done computing similarity matrix.\n",
            "0.9675097233842008\n",
            "Computing the msd similarity matrix...\n",
            "Done computing similarity matrix.\n",
            "Computing the msd similarity matrix...\n",
            "Done computing similarity matrix.\n",
            "Computing the msd similarity matrix...\n",
            "Done computing similarity matrix.\n",
            "Computing the msd similarity matrix...\n",
            "Done computing similarity matrix.\n",
            "Computing the msd similarity matrix...\n",
            "Done computing similarity matrix.\n",
            "Computing the msd similarity matrix...\n",
            "Done computing similarity matrix.\n",
            "Computing the msd similarity matrix...\n",
            "Done computing similarity matrix.\n",
            "Computing the msd similarity matrix...\n",
            "Done computing similarity matrix.\n",
            "Computing the msd similarity matrix...\n",
            "Done computing similarity matrix.\n",
            "Computing the msd similarity matrix...\n",
            "Done computing similarity matrix.\n",
            "Computing the msd similarity matrix...\n",
            "Done computing similarity matrix.\n",
            "Computing the msd similarity matrix...\n",
            "Done computing similarity matrix.\n",
            "Computing the msd similarity matrix...\n",
            "Done computing similarity matrix.\n",
            "Computing the msd similarity matrix...\n",
            "Done computing similarity matrix.\n",
            "Computing the msd similarity matrix...\n",
            "Done computing similarity matrix.\n",
            "Computing the msd similarity matrix...\n",
            "Done computing similarity matrix.\n",
            "Computing the msd similarity matrix...\n",
            "Done computing similarity matrix.\n",
            "Computing the msd similarity matrix...\n",
            "Done computing similarity matrix.\n",
            "Computing the msd similarity matrix...\n",
            "Done computing similarity matrix.\n",
            "Computing the msd similarity matrix...\n",
            "Done computing similarity matrix.\n",
            "Computing the msd similarity matrix...\n",
            "Done computing similarity matrix.\n",
            "Computing the msd similarity matrix...\n",
            "Done computing similarity matrix.\n",
            "Computing the msd similarity matrix...\n",
            "Done computing similarity matrix.\n",
            "Computing the msd similarity matrix...\n",
            "Done computing similarity matrix.\n",
            "Computing the msd similarity matrix...\n",
            "Done computing similarity matrix.\n",
            "Computing the msd similarity matrix...\n",
            "Done computing similarity matrix.\n",
            "Computing the msd similarity matrix...\n",
            "Done computing similarity matrix.\n",
            "Computing the msd similarity matrix...\n",
            "Done computing similarity matrix.\n",
            "Computing the msd similarity matrix...\n",
            "Done computing similarity matrix.\n",
            "Computing the msd similarity matrix...\n",
            "Done computing similarity matrix.\n",
            "Computing the msd similarity matrix...\n",
            "Done computing similarity matrix.\n",
            "Computing the msd similarity matrix...\n",
            "Done computing similarity matrix.\n",
            "Computing the msd similarity matrix...\n",
            "Done computing similarity matrix.\n",
            "Computing the msd similarity matrix...\n",
            "Done computing similarity matrix.\n",
            "Computing the msd similarity matrix...\n",
            "Done computing similarity matrix.\n",
            "Computing the msd similarity matrix...\n",
            "Done computing similarity matrix.\n",
            "Computing the msd similarity matrix...\n",
            "Done computing similarity matrix.\n",
            "Computing the msd similarity matrix...\n",
            "Done computing similarity matrix.\n",
            "Computing the msd similarity matrix...\n",
            "Done computing similarity matrix.\n",
            "Computing the msd similarity matrix...\n",
            "Done computing similarity matrix.\n",
            "Computing the msd similarity matrix...\n",
            "Done computing similarity matrix.\n",
            "Computing the msd similarity matrix...\n",
            "Done computing similarity matrix.\n",
            "Computing the msd similarity matrix...\n",
            "Done computing similarity matrix.\n",
            "Computing the msd similarity matrix...\n",
            "Done computing similarity matrix.\n",
            "Computing the msd similarity matrix...\n",
            "Done computing similarity matrix.\n",
            "Computing the msd similarity matrix...\n",
            "Done computing similarity matrix.\n",
            "Computing the msd similarity matrix...\n",
            "Done computing similarity matrix.\n",
            "Computing the msd similarity matrix...\n",
            "Done computing similarity matrix.\n",
            "Computing the msd similarity matrix...\n",
            "Done computing similarity matrix.\n",
            "Computing the msd similarity matrix...\n",
            "Done computing similarity matrix.\n",
            "Computing the msd similarity matrix...\n",
            "Done computing similarity matrix.\n",
            "Computing the msd similarity matrix...\n",
            "Done computing similarity matrix.\n",
            "Computing the msd similarity matrix...\n",
            "Done computing similarity matrix.\n",
            "Computing the msd similarity matrix...\n",
            "Done computing similarity matrix.\n",
            "Computing the msd similarity matrix...\n",
            "Done computing similarity matrix.\n",
            "Computing the msd similarity matrix...\n",
            "Done computing similarity matrix.\n",
            "Computing the msd similarity matrix...\n",
            "Done computing similarity matrix.\n",
            "Computing the msd similarity matrix...\n",
            "Done computing similarity matrix.\n",
            "Computing the msd similarity matrix...\n",
            "Done computing similarity matrix.\n",
            "Computing the msd similarity matrix...\n",
            "Done computing similarity matrix.\n",
            "Computing the msd similarity matrix...\n",
            "Done computing similarity matrix.\n",
            "Computing the msd similarity matrix...\n",
            "Done computing similarity matrix.\n",
            "Computing the msd similarity matrix...\n",
            "Done computing similarity matrix.\n",
            "Computing the msd similarity matrix...\n",
            "Done computing similarity matrix.\n",
            "Computing the msd similarity matrix...\n",
            "Done computing similarity matrix.\n",
            "Computing the msd similarity matrix...\n",
            "Done computing similarity matrix.\n",
            "Computing the msd similarity matrix...\n",
            "Done computing similarity matrix.\n",
            "Computing the msd similarity matrix...\n",
            "Done computing similarity matrix.\n",
            "Computing the msd similarity matrix...\n",
            "Done computing similarity matrix.\n",
            "Computing the msd similarity matrix...\n",
            "Done computing similarity matrix.\n",
            "Computing the msd similarity matrix...\n",
            "Done computing similarity matrix.\n",
            "Computing the msd similarity matrix...\n",
            "Done computing similarity matrix.\n",
            "Computing the msd similarity matrix...\n",
            "Done computing similarity matrix.\n",
            "Computing the msd similarity matrix...\n",
            "Done computing similarity matrix.\n",
            "Computing the msd similarity matrix...\n",
            "Done computing similarity matrix.\n",
            "Computing the msd similarity matrix...\n",
            "Done computing similarity matrix.\n",
            "Computing the msd similarity matrix...\n",
            "Done computing similarity matrix.\n",
            "Computing the msd similarity matrix...\n",
            "Done computing similarity matrix.\n",
            "Computing the msd similarity matrix...\n",
            "Done computing similarity matrix.\n",
            "Computing the msd similarity matrix...\n",
            "Done computing similarity matrix.\n",
            "Computing the msd similarity matrix...\n",
            "Done computing similarity matrix.\n",
            "Computing the msd similarity matrix...\n",
            "Done computing similarity matrix.\n",
            "Computing the msd similarity matrix...\n",
            "Done computing similarity matrix.\n",
            "Computing the msd similarity matrix...\n",
            "Done computing similarity matrix.\n",
            "Computing the msd similarity matrix...\n",
            "Done computing similarity matrix.\n",
            "Computing the msd similarity matrix...\n",
            "Done computing similarity matrix.\n",
            "Computing the msd similarity matrix...\n",
            "Done computing similarity matrix.\n",
            "Computing the msd similarity matrix...\n",
            "Done computing similarity matrix.\n",
            "Computing the msd similarity matrix...\n",
            "Done computing similarity matrix.\n",
            "Computing the msd similarity matrix...\n",
            "Done computing similarity matrix.\n",
            "Computing the msd similarity matrix...\n",
            "Done computing similarity matrix.\n",
            "Computing the msd similarity matrix...\n",
            "Done computing similarity matrix.\n",
            "Computing the msd similarity matrix...\n",
            "Done computing similarity matrix.\n",
            "Computing the msd similarity matrix...\n",
            "Done computing similarity matrix.\n",
            "Computing the msd similarity matrix...\n",
            "Done computing similarity matrix.\n",
            "Computing the msd similarity matrix...\n",
            "Done computing similarity matrix.\n",
            "Computing the msd similarity matrix...\n",
            "Done computing similarity matrix.\n",
            "Computing the msd similarity matrix...\n",
            "Done computing similarity matrix.\n",
            "Computing the msd similarity matrix...\n",
            "Done computing similarity matrix.\n",
            "Computing the msd similarity matrix...\n",
            "Done computing similarity matrix.\n",
            "0.9669470939534766\n"
          ]
        }
      ],
      "source": [
        "# Evaluar RMSE para los siguientes valores de K\n",
        "# se busca determinar el K óptimo de manera gráfica.\n",
        "# --------------------------------------------------\n",
        "k_value = [5,10,20,50,100]\n",
        "error = list()\n",
        "for i  in k_value:\n",
        "  model_user_results = cross_validate(model_user, data, measures=['RMSE'],cv=i, verbose=False)\n",
        "  error_medio=(model_user_results['test_rmse'].sum())/i\n",
        "  error.append(error_medio)\n",
        "  print(error_medio)"
      ]
    },
    {
      "cell_type": "code",
      "execution_count": 33,
      "metadata": {
        "id": "_zRktCTsk0kS",
        "colab": {
          "base_uri": "https://localhost:8080/",
          "height": 472
        },
        "outputId": "483e06b9-a43d-46ad-8c71-e1b63608b755"
      },
      "outputs": [
        {
          "output_type": "display_data",
          "data": {
            "text/plain": [
              "<Figure size 640x480 with 1 Axes>"
            ],
            "image/png": "[encoded data removed]"
          },
          "metadata": {}
        }
      ],
      "source": [
        "dicc ={'k_value(K)':k_value, 'error(RMSE)':error}\n",
        "df=pd.DataFrame(dicc)\n",
        "\n",
        "\n",
        "import matplotlib.pyplot as plt\n",
        "import math\n",
        "plt.plot(k_value,error)\n",
        "plt.scatter(k_value, error,marker='o', color='r')\n",
        "annotations=[]\n",
        "for i in range(0,len(error)):\n",
        "  annotations.append('  ('+ str(k_value[i]) + ' , ' + str(round(error[i],4)) +')')\n",
        "for i, label in enumerate(annotations):\n",
        "    plt.text(k_value[i], error[i],label)\n",
        "plt.xlabel('K: Número de Folds (bloques)')\n",
        "plt.ylabel('RMSE: Error cuadrático medio')\n",
        "plt.title('Gráfico K vs RMSE')\n",
        "plt.show()"
      ]
    }
  ],
  "metadata": {
    "colab": {
      "provenance": [],
      "include_colab_link": true
    },
    "kernelspec": {
      "display_name": "Python 3",
      "name": "python3"
    },
    "language_info": {
      "name": "python"
    }
  },
  "nbformat": 4,
  "nbformat_minor": 0
}