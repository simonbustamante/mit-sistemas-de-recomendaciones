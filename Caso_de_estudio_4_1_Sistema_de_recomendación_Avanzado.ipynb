{
  "nbformat": 4,
  "nbformat_minor": 0,
  "metadata": {
    "kernelspec": {
      "name": "python3",
      "display_name": "Python 3"
    },
    "language_info": {
      "name": "python"
    },
    "colab": {
      "provenance": [],
      "include_colab_link": true
    }
  },
  "cells": [
    {
      "cell_type": "markdown",
      "metadata": {
        "id": "view-in-github",
        "colab_type": "text"
      },
      "source": [
        "<a href=\"https://colab.research.google.com/github/simonbustamante/mit-sistemas-de-recomendaciones/blob/master/Caso_de_estudio_4_1_Sistema_de_recomendaci%C3%B3n_Avanzado.ipynb\" target=\"_parent\"><img src=\"https://colab.research.google.com/assets/colab-badge.svg\" alt=\"Open In Colab\"/></a>"
      ]
    },
    {
      "cell_type": "markdown",
      "metadata": {
        "collapsed": true,
        "id": "fEdb-oO_Ff8K"
      },
      "source": [
        "# Caso de Estudio 4.1 - Sistema de recomendación de películas"
      ]
    },
    {
      "cell_type": "markdown",
      "metadata": {
        "id": "79Tf4qIgFf8U"
      },
      "source": [
        "#### Nota: Si en algún momento cierra este notebook tendrá que volver a ejecutar todas las celdas de nuevo al abrirlo.\n",
        "\n",
        "#### Nota: Puede que obtenga diferentes resultados numéricos al ejecutar el notebook en diferentes ocasiones. Esto es normal, simplemente entregue los resultados obtenidos."
      ]
    },
    {
      "cell_type": "markdown",
      "metadata": {
        "id": "r2ZCu_wJFf8V"
      },
      "source": [
        "## PYTHON AVANZADO"
      ]
    },
    {
      "cell_type": "markdown",
      "metadata": {
        "id": "ABt9uxt9Ff8V"
      },
      "source": [
        "Como esta es la versión avanzada, no incluimos parte del código en ella. Si se atasca en alguna sección del caso de estudio no dude en consultar la [versión principiante](https://drive.google.com/file/d/1rLjIyCxUSL_E7rLBFfa3NYk7sbc9tpoZ/view?usp=sharing) del caso para obtener ayuda."
      ]
    },
    {
      "cell_type": "markdown",
      "metadata": {
        "id": "-qJWM7Nmkhxd"
      },
      "source": [
        "## Información de contacto"
      ]
    },
    {
      "cell_type": "code",
      "source": [
        "# TU NOMBRE = ...\n",
        "# TU CORREO ELECTRÓNICO DE MITX PRO = ..."
      ],
      "metadata": {
        "id": "SlE5RuVuW-4G"
      },
      "execution_count": null,
      "outputs": []
    },
    {
      "cell_type": "markdown",
      "metadata": {
        "id": "g-J7g8S3khxg"
      },
      "source": [
        "## Configuración"
      ]
    },
    {
      "cell_type": "markdown",
      "metadata": {
        "id": "okCWWIi5kpzX"
      },
      "source": [
        "Ejecute (Run) estas celdas para instalar los paquetes necesarios para completar el caso de estudio. Esto podría llevar unos minutos así que sea paciente."
      ]
    },
    {
      "cell_type": "code",
      "metadata": {
        "trusted": true,
        "id": "JUQoaH0GkpzX"
      },
      "source": [
        "!pip install --upgrade pip\n",
        "!pip install surprise==0.1\n",
        "print('Librerías instaladas con éxito!')"
      ],
      "execution_count": null,
      "outputs": []
    },
    {
      "cell_type": "markdown",
      "metadata": {
        "id": "Kp6W1vZ5kpzX"
      },
      "source": [
        "Si no ha obtenido ningún texto en rojo indicando error entonces la instalación ha terminado con éxito. El texto en amarillo son avisos, no errores."
      ]
    },
    {
      "cell_type": "markdown",
      "metadata": {
        "id": "oDjaPEqakpzY"
      },
      "source": [
        "<h1>Atención:</h1>\n",
        "\n",
        "Ahora ha de reiniciar el entorno de ejecución. Para ello vaya a:\n",
        "\n",
        "> Entorno de ejecución > _Reiniciar entorno de ejecución_\n",
        "\n",
        "en la parte superior de su pantalla. Esto asegurará que sus cambio se han realizado con éxito."
      ]
    },
    {
      "cell_type": "markdown",
      "metadata": {
        "id": "c83HwbdKkpzY"
      },
      "source": [
        "## Importar"
      ]
    },
    {
      "cell_type": "markdown",
      "metadata": {
        "id": "98f7g_cqkpzY"
      },
      "source": [
        "Importe las librerías necesarias para el desarrollo del caso."
      ]
    },
    {
      "cell_type": "code",
      "source": [
        "import pandas as pd\n",
        "import matplotlib\n",
        "from surprise import Dataset, SVD, NormalPredictor, BaselineOnly, KNNBasic, NMF\n",
        "from surprise.model_selection import cross_validate, KFold\n",
        "%matplotlib inline\n",
        "print('Librerías importadas con éxito!')"
      ],
      "metadata": {
        "id": "eKsY0hdSR9x-"
      },
      "execution_count": null,
      "outputs": []
    },
    {
      "cell_type": "code",
      "source": [
        "from google.colab import drive\n",
        "drive.mount('/content/drive')"
      ],
      "metadata": {
        "id": "b-xLJe5dR9XL"
      },
      "execution_count": null,
      "outputs": []
    },
    {
      "cell_type": "markdown",
      "metadata": {
        "id": "7otNMBVbkpzY"
      },
      "source": [
        "## Datos"
      ]
    },
    {
      "cell_type": "markdown",
      "metadata": {
        "id": "QCFFVwTxFf9n"
      },
      "source": [
        "Use la función [`Dataset.load_builtin`](http://surprise.readthedocs.io/en/stable/dataset.html#surprise.dataset.Dataset.load_builtin) para cargar la base de datos `ml-100k` de *MovieLens*."
      ]
    },
    {
      "cell_type": "code",
      "metadata": {
        "trusted": true,
        "id": "v_9zirEjFf9o"
      },
      "source": [
        "# Inserte aquí su código para cargar los datos..."
      ],
      "execution_count": null,
      "outputs": []
    },
    {
      "cell_type": "markdown",
      "metadata": {
        "id": "7cPEaRmBFf9o"
      },
      "source": [
        "También queremos tener cierta idea de la apariencia de los datos. Para ello cree un histograma de todas las valoraciones que hay en la base de datos."
      ]
    },
    {
      "cell_type": "code",
      "metadata": {
        "trusted": true,
        "id": "b03qBGW6Ff9o"
      },
      "source": [
        "# Escribe aquí tu código para crear un histograma de las puntuaciones..."
      ],
      "execution_count": null,
      "outputs": []
    },
    {
      "cell_type": "markdown",
      "metadata": {
        "id": "9PiAfnfxkpzZ"
      },
      "source": [
        "<h1>PREGUNTA 1: ANÁLISIS DE DATOS</h1>"
      ]
    },
    {
      "cell_type": "markdown",
      "metadata": {
        "id": "uHSusKAxkpzZ"
      },
      "source": [
        "**Describa la base de datos. ¿Cuántas valoraciones (ratings) hay en la base de datos? Como describiría la distribución de las valoraciones? ¿Hay algo más en lo que deberíamos fijarnos?**\n",
        "\n",
        "Asegúrese de que el histograma se puede visualizar en el *notebook* incluso una vez se haya convertido a formato `.pdf`."
      ]
    },
    {
      "cell_type": "markdown",
      "source": [
        "*Escribe aquí tu respuesta...*"
      ],
      "metadata": {
        "id": "cC_dnb6RtPP0"
      }
    },
    {
      "cell_type": "markdown",
      "metadata": {
        "id": "KNYrc-VakpzZ"
      },
      "source": [
        "## Modelo 1: aleatorio"
      ]
    },
    {
      "cell_type": "code",
      "metadata": {
        "trusted": true,
        "id": "pVwuK5PnFf9p"
      },
      "source": [
        "# Create un modelo utilizando la clase NormalPredictor()."
      ],
      "execution_count": null,
      "outputs": []
    },
    {
      "cell_type": "code",
      "metadata": {
        "trusted": true,
        "id": "51yawonHFf9p"
      },
      "source": [
        "# Entrena el modelo con los datos utilizando validación cruzada con k=5 iteraciones, midiendo el RMSE\n",
        "# Observa la función cross_validate que importamos al principio\n",
        "# http://surprise.readthedocs.io/en/stable/model_selection.html#surprise.model_selection.validation.cross_validate"
      ],
      "execution_count": null,
      "outputs": []
    },
    {
      "cell_type": "markdown",
      "metadata": {
        "id": "egADJAn4Ff9p"
      },
      "source": [
        "## Modelo 2: filtrado colaborativo basado en usuarios"
      ]
    },
    {
      "cell_type": "code",
      "metadata": {
        "trusted": true,
        "id": "H-3S_gVBFf9p"
      },
      "source": [
        "# Crea un modelo utilizando la clase KNNBasic()\n",
        "# Consulta el parámetro sim_options para determinar la similitud usuario/item calculada por el modelo\n",
        "# http://surprise.readthedocs.io/en/stable/prediction_algorithms.html#similarity-measures-configuration"
      ],
      "execution_count": null,
      "outputs": []
    },
    {
      "cell_type": "code",
      "metadata": {
        "trusted": true,
        "id": "eRt2FUkJFf9q"
      },
      "source": [
        "# Entrena el modelo utilizando el mismo esquema de validación cruzada\n",
        "# utilizado anteriormente"
      ],
      "execution_count": null,
      "outputs": []
    },
    {
      "cell_type": "markdown",
      "metadata": {
        "id": "lPB9_pL7Ff9q"
      },
      "source": [
        "## Modelo 3: filtrado colaborativo basado en ítems"
      ]
    },
    {
      "cell_type": "code",
      "metadata": {
        "trusted": true,
        "id": "U9hYC61-Ff9q"
      },
      "source": [
        "# Crea un modelo utilizando la clase KNNBasic()\n",
        "# Asegúrate de cambiar el parámetro sim_options del código anterior"
      ],
      "execution_count": null,
      "outputs": []
    },
    {
      "cell_type": "code",
      "metadata": {
        "trusted": true,
        "id": "1FZ1U3nYFf9q"
      },
      "source": [
        "# Entrena el modelo utilizando el mismo esquema de validación cruzada\n",
        "# utilizado anteriormente"
      ],
      "execution_count": null,
      "outputs": []
    },
    {
      "cell_type": "markdown",
      "metadata": {
        "id": "TfouF50hkpzb"
      },
      "source": [
        "<h1>PREGUNTA 2: MODELOS DE FILTRADO COLABORATIVO</h1>"
      ]
    },
    {
      "cell_type": "markdown",
      "metadata": {
        "id": "c4Vpd7Z4kpzb"
      },
      "source": [
        "**Compare los resultados de los modelos de filtrado colaborativo basados en usuarios e ítems. ¿Qué diferencias encuentra entre ambos? ¿Qué diferencias encuentra entre dichos modelos y el modelo aleatorio? ¿Puede explicar qué podría haber motivado dichas diferencias en los resultados?**"
      ]
    },
    {
      "cell_type": "markdown",
      "source": [
        "*Escribe aquí tu respuesta...*"
      ],
      "metadata": {
        "id": "MRLDgYVdzs5I"
      }
    },
    {
      "cell_type": "markdown",
      "metadata": {
        "id": "CZNckgrikpzb"
      },
      "source": [
        "## Modelo 4: factorización de matriz"
      ]
    },
    {
      "cell_type": "code",
      "metadata": {
        "trusted": true,
        "id": "1rjkk-XDFf9r"
      },
      "source": [
        "# Crea un modelo utilizando la clase SVD()"
      ],
      "execution_count": null,
      "outputs": []
    },
    {
      "cell_type": "code",
      "metadata": {
        "trusted": true,
        "id": "6Fc6YMawFf9r"
      },
      "source": [
        "# Entrena el modelo utilizando el mismo esquema de validación cruzada utilizado anteriormente"
      ],
      "execution_count": null,
      "outputs": []
    },
    {
      "cell_type": "markdown",
      "metadata": {
        "id": "sCT8JRy9kpzc"
      },
      "source": [
        "<h1>PREGUNTA 3: MODELO DE FACTORIZACIÓN DE MATRIZ</h1>"
      ]
    },
    {
      "cell_type": "markdown",
      "metadata": {
        "id": "KBVMl2Oakpzc"
      },
      "source": [
        "**El modelo de factorización de matriz es diferente de los modelos de filtrado colaborativo. Describa brevemente en qué consisten dichas diferencias. También, compare de nuevo el RECM respecto al resto de modelos. ¿Mejora? ¿Puede ofrecer alguna explicación de por qué mejora/empeora?**"
      ]
    },
    {
      "cell_type": "markdown",
      "source": [
        "*Escribe aquí tu respuesta...*"
      ],
      "metadata": {
        "id": "e40yXf9r6gkY"
      }
    },
    {
      "cell_type": "markdown",
      "metadata": {
        "id": "UoYIQYQSkpzc"
      },
      "source": [
        "## Precisión and exhaustividad @`k` (*precision and recall @k*)"
      ]
    },
    {
      "cell_type": "markdown",
      "metadata": {
        "id": "HHt3Dsxhkpzc"
      },
      "source": [
        "Queremos calcular la precisión y la exhaustividad para 2 valores de `k`: 5 y 10. Hemos incluído unas cuantas líneas de código que le ayudarán a conseguirlo."
      ]
    },
    {
      "cell_type": "markdown",
      "metadata": {
        "id": "cKXtIJefkpzc"
      },
      "source": [
        "Primero, definimos una función que toma algunas predicciones, un valor de `k` y un parámetro de umbral. Este código ha sido adaptado de la siguiente [fuente](http://surprise.readthedocs.io/en/stable/FAQ.html?highlight=precision#how-to-compute-precision-k-and-recall-k).\n",
        "\n",
        "**Asegúrese de que ejecuta esta celda**"
      ]
    },
    {
      "cell_type": "code",
      "metadata": {
        "trusted": true,
        "id": "lkv2qH-XFf9v"
      },
      "source": [
        "def precision_recall_at_k(predictions, k=10, threshold=3.5):\n",
        "    '''Devuelve la precision y la exhaustividad @k para cada usuario'''\n",
        "\n",
        "    # Primero asocie las predicciones a cada usuario\n",
        "    user_est_true = dict()\n",
        "    for uid, _, true_r, est, _ in predictions:\n",
        "        current = user_est_true.get(uid, list())\n",
        "        current.append((est, true_r))\n",
        "        user_est_true[uid] = current\n",
        "\n",
        "    precisions = dict()\n",
        "    recalls = dict()\n",
        "    for uid, user_ratings in user_est_true.items():\n",
        "\n",
        "        # Ordene las valoraciones de los usuarios por su valor estimado\n",
        "        user_ratings.sort(key=lambda x: x[0], reverse=True)\n",
        "\n",
        "        # Número de ítems relevantes\n",
        "        n_rel = sum((true_r >= threshold) for (_, true_r) in user_ratings)\n",
        "\n",
        "        # Número de ítems recomendados en el top k\n",
        "        n_rec_k = sum((est >= threshold) for (est, _) in user_ratings[:k])\n",
        "\n",
        "        # Número de ítems relevantes y recomendados en el top k\n",
        "        n_rel_and_rec_k = sum(((true_r >= threshold) and (est >= threshold))\n",
        "                              for (est, true_r) in user_ratings[:k])\n",
        "\n",
        "        # Precision@k: proporción de ítems recomendados que son relevantes\n",
        "        precisions[uid] = n_rel_and_rec_k / n_rec_k if n_rec_k != 0 else 1\n",
        "\n",
        "        # Exhaustividad@K: proporción de ítems relevantes que se recomiendan\n",
        "        recalls[uid] = n_rel_and_rec_k / n_rel if n_rel != 0 else 1\n",
        "\n",
        "    return precisions, recalls\n",
        "\n",
        "print('\\n\\nFunción creada con éxito!')"
      ],
      "execution_count": null,
      "outputs": []
    },
    {
      "cell_type": "markdown",
      "metadata": {
        "id": "TpXjwKQ5kpzd"
      },
      "source": [
        "A continuación, calculamos la precisión y exhaustividad @`k` = 5 y 10. Usamos validación cruzada con 5 iteraciones de nuevo para promediar los resultados a lo largo de toda la base de datos.\n",
        "\n",
        "Sea paciente porque esto podría llevar cierto tiempo en ejecutarse."
      ]
    },
    {
      "cell_type": "code",
      "source": [
        "# Utiliza la función precision_recall_at_k() que acaba de ser definida\n",
        "# para calcular los 16 valores numéricos.\n",
        "\n",
        "# Consulta la función test() para obtener las predicciones que se utilizan como entrada\n",
        "# para la función precision_recall_at_k():\n",
        "# http://surprise.readthedocs.io/en/stable/algobase.html#surprise.prediction_algorithms.algo_base.AlgoBase.test"
      ],
      "metadata": {
        "id": "pRsJYi_xVFcD"
      },
      "execution_count": null,
      "outputs": []
    },
    {
      "cell_type": "markdown",
      "metadata": {
        "id": "O0FWJEmDkpzd"
      },
      "source": [
        "<h1>PREGUNTA 4: PRECISIÓN/EXHAUSTIVIDAD</h1>"
      ]
    },
    {
      "cell_type": "markdown",
      "metadata": {
        "id": "avxVfoitFf90"
      },
      "source": [
        "**Calcule la precisión y la exhaustividad, para cada uno de los 4 modelos, con `k` = 5 y 10. Es decir, 2 x 2 x 4 = 16 valores numéricos. ¿Nota algo diferente en estos valores? ¿Algo diferente de los valores de RECM calculados anteriormente?**\n",
        "\n",
        "Esta pregunta requiere que escriba cierto código:"
      ]
    },
    {
      "cell_type": "markdown",
      "source": [
        "*Escribe aquí tu respuesta...*"
      ],
      "metadata": {
        "id": "rDHAw-ZmE3sp"
      }
    },
    {
      "cell_type": "markdown",
      "metadata": {
        "id": "k1skeZxkkpze"
      },
      "source": [
        "##  Top-`n` Predicciones"
      ]
    },
    {
      "cell_type": "markdown",
      "metadata": {
        "id": "njxBlz2tkpze"
      },
      "source": [
        "Finalmente, queremos ver cómo son las recomendaciones y las estimaciones de valoraciones de los usuarios."
      ]
    },
    {
      "cell_type": "markdown",
      "metadata": {
        "id": "tCz6Duatkpze"
      },
      "source": [
        "De nuevo, definimos una función auxiliar."
      ]
    },
    {
      "cell_type": "code",
      "metadata": {
        "trusted": true,
        "id": "NdaFvm-aFf91"
      },
      "source": [
        "def get_top_n(predictions, n=10):\n",
        "    '''Devuelve las top-N recomendaciones para cada usuario de un conjunto de predicciones.\n",
        "\n",
        "    Argumentos:\n",
        "        predictions(lista de objetos de predicción): lista de la predicciones,\n",
        "            tal y como se obtienen del método \"test\" de un algoritmo\n",
        "        n(int): número de recomendaciones a mostrar para cada usuario.\n",
        "            Por defecto es 10.\n",
        "\n",
        "    Salidas:\n",
        "    Un diccionario donde las keys son las IDs de los usuarios y los valores son\n",
        "    una lista de tuples:\n",
        "        [(item id, estimación de la valoración), ...] de tamaño n.\n",
        "    '''\n",
        "\n",
        "    # Primero asocie las predicciones a cada usuario.\n",
        "    top_n = dict()\n",
        "    for uid, iid, true_r, est, _ in predictions:\n",
        "        current = top_n.get(uid, [])\n",
        "        current.append((iid, est))\n",
        "        top_n[uid] = current\n",
        "\n",
        "    # A continuación ordene las predicciones para cada usuario y obtenga las\n",
        "    # n predicciones más elevadas\n",
        "    for uid, user_ratings in top_n.items():\n",
        "        user_ratings.sort(key=lambda x: x[1], reverse=True)\n",
        "        top_n[uid] = user_ratings[:n]\n",
        "\n",
        "    return top_n\n",
        "\n",
        "print('Función creada con éxito!')"
      ],
      "execution_count": null,
      "outputs": []
    },
    {
      "cell_type": "markdown",
      "metadata": {
        "id": "5Q8SOugPFf92"
      },
      "source": [
        "Por último, ejecutamos esta función en cada uno de los modelos, primero entrenando en **la totalidad** de los datos disponibles, y después prediciendo los datos que faltan. Usamos `n` = 5, pero puede elegir cualquier valor razonable de n.\n",
        "\n",
        "Esto podría llevar cierto tiempo de computación, así que sea paciente."
      ]
    },
    {
      "cell_type": "markdown",
      "metadata": {
        "id": "mgFB8r7pFf-G"
      },
      "source": [
        "Pista: Use [`Dataset.build_full_trainset`](http://surprise.readthedocs.io/en/stable/dataset.html#surprise.dataset.DatasetAutoFolds.build_full_trainset) para obtener el conjunto de entrenamiento de la base de datos. Después ejecute [`Trainset.build_anti_testset`](http://surprise.readthedocs.io/en/stable/trainset.html#surprise.Trainset.build_anti_testset) para obtener el conjunto de prueba. Finalmente, use `fit` en el conjunto de entrenamiento, `test` en el conjunto de prueba, y pase el resultado a la función `get_top_n()`."
      ]
    },
    {
      "cell_type": "code",
      "source": [
        "# Utiliza la función get_top_n() y las pistas para obtener las recomendaciones top-n\n",
        "# para un usuario específico, utilizando un valor razonable para n."
      ],
      "metadata": {
        "id": "WM1CQCA4Vho1"
      },
      "execution_count": null,
      "outputs": []
    },
    {
      "cell_type": "markdown",
      "metadata": {
        "id": "xvZdwU5Ckpzf"
      },
      "source": [
        "<h1>PREGUNTA 5: TOP-N PREDICCIONES</h1>"
      ]
    },
    {
      "cell_type": "markdown",
      "metadata": {
        "id": "XJsHTqxvkpzf"
      },
      "source": [
        "**¿Tienen sentido las top-n predicciones que ha obtenido? ¿Cuál es el valor de las valoraciones (1-5) de estas predicciones? ¿Cómo podría usar estas predicciones en la vida real si estuviera intentando construir un sistema de recomendación genérico para una compañía?**\n",
        "\n",
        "Esta pregunta requiere que escriba cierto código:"
      ]
    },
    {
      "cell_type": "markdown",
      "source": [
        "*Escribe aquí tu respuesta...*"
      ],
      "metadata": {
        "id": "SxbDjvhKL87m"
      }
    },
    {
      "cell_type": "markdown",
      "metadata": {
        "id": "Axfj-p4bFf-H"
      },
      "source": [
        "¡Buen trabajo! Asegúrese de que comprueba la sección **Entrega** del manual de instrucciones para terminar y entregar este caso correctamente."
      ]
    }
  ]
}